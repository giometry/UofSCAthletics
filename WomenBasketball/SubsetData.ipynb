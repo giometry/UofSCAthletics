{
 "cells": [
  {
   "cell_type": "code",
   "execution_count": 1,
   "id": "87022ef8-7366-4a40-acad-838d24a7f74d",
   "metadata": {},
   "outputs": [],
   "source": [
    "# Import packages for data manipulation and analysis\n",
    "import pandas as pd\n",
    "import numpy as np"
   ]
  },
  {
   "cell_type": "code",
   "execution_count": 2,
   "id": "ebd20586-d374-4b9e-8a4e-0d15db8e4e23",
   "metadata": {},
   "outputs": [],
   "source": [
    "# File location for data\n",
    "folder_loc = r'C:\\Users\\giova\\Documents\\School\\Classes\\Spring 2025\\Capstone Project\\Data'\n",
    "\n",
    "fact_ticket_file = r'\\FactTicketSeat_WBB_2024_25.csv'\n",
    "fan_factor_file = r'\\FanFactors.csv'"
   ]
  },
  {
   "cell_type": "code",
   "execution_count": 3,
   "id": "9c5453e3-b336-4cf1-94fb-933e66fcaed2",
   "metadata": {},
   "outputs": [
    {
     "name": "stderr",
     "output_type": "stream",
     "text": [
      "C:\\Users\\giova\\AppData\\Local\\Temp\\ipykernel_11388\\2215196532.py:2: DtypeWarning: Columns (0,1,13) have mixed types. Specify dtype option on import or set low_memory=False.\n",
      "  fact_ticket_df = pd.read_csv(folder_loc + fact_ticket_file)\n",
      "C:\\Users\\giova\\AppData\\Local\\Temp\\ipykernel_11388\\2215196532.py:3: DtypeWarning: Columns (22,23,26,27,33,34,41,47) have mixed types. Specify dtype option on import or set low_memory=False.\n",
      "  fan_factors = pd.read_csv(folder_loc + fan_factor_file)\n"
     ]
    }
   ],
   "source": [
    "# Read data\n",
    "fact_ticket_df = pd.read_csv(folder_loc + fact_ticket_file)\n",
    "fan_factors = pd.read_csv(folder_loc + fan_factor_file)"
   ]
  },
  {
   "cell_type": "code",
   "execution_count": 4,
   "id": "179aded1-cc05-42c0-acc7-6d28f5cde855",
   "metadata": {},
   "outputs": [],
   "source": [
    "# Create GRMCONTACTID column from GRMContactid column\n",
    "fact_ticket_df['GRMCONTACTID'] = fact_ticket_df['GRMContactid']"
   ]
  },
  {
   "cell_type": "code",
   "execution_count": 5,
   "id": "120b117f-d716-4121-bf06-fc286dd0e0b0",
   "metadata": {},
   "outputs": [],
   "source": [
    "# Filter only on womens basketball 2024 and tickets that were sold/resold\n",
    "women_basketball_2024 = fact_ticket_df[(fact_ticket_df[\"SEASONNAME\"] == \"2024-25 Gamecock Women's Basketball\") & (fact_ticket_df[\"SEASONYEAR\"] == 2024) & ((fact_ticket_df[\"ISSOLD\"] == 1) | (fact_ticket_df[\"ISRESOLD\"] == 1))]"
   ]
  },
  {
   "cell_type": "code",
   "execution_count": 6,
   "id": "fa160c61-890a-4f40-b092-c27011db6788",
   "metadata": {},
   "outputs": [],
   "source": [
    "# Create a copy of grmcontact id in factors\n",
    "fan_factors['GRMCONTACTID_FANCOPY'] = fan_factors['GRMCONTACTID']"
   ]
  },
  {
   "cell_type": "code",
   "execution_count": 7,
   "id": "c0653ccb-0afd-4480-9382-6e4542bd6c15",
   "metadata": {},
   "outputs": [],
   "source": [
    "# Merge women basketball with fan factor table\n",
    "women_basketball_2024_final = women_basketball_2024.merge(fan_factors, on='GRMCONTACTID', how='left')"
   ]
  },
  {
   "cell_type": "code",
   "execution_count": 8,
   "id": "f4f7a127-cb62-4846-9a5d-b4e560729e9b",
   "metadata": {},
   "outputs": [],
   "source": [
    "# Create a new column 'id_status' with the desired categories\n",
    "women_basketball_2024_final['Fan Status'] = np.select(\n",
    "    [\n",
    "        women_basketball_2024_final['GRMCONTACTID'].isnull(),  # No ID\n",
    "        women_basketball_2024_final['GRMCONTACTID'].notnull() & women_basketball_2024_final['GRMCONTACTID_FANCOPY'].notnull(),  # ID with customer data\n",
    "        women_basketball_2024_final['GRMCONTACTID'].notnull() & women_basketball_2024_final['GRMCONTACTID_FANCOPY'].isnull()  # ID without customer data\n",
    "    ],\n",
    "    [\n",
    "        'No Id',              # Label for No ID\n",
    "        'Id w/ Fan Factor Data',  # Label for ID with customer data\n",
    "        'Id w/o Fan Factor Data'  # Label for ID without customer data\n",
    "    ],\n",
    "    default='Unknown'  # Default value if none of the conditions match\n",
    ")"
   ]
  },
  {
   "cell_type": "code",
   "execution_count": 9,
   "id": "09aa4bb3-f49c-4426-a00f-ca73e3237675",
   "metadata": {},
   "outputs": [],
   "source": [
    "# Filter only on rows where there is id with customer data\n",
    "women_basketball_2024_final = women_basketball_2024_final[women_basketball_2024_final['Fan Status'] == \"Id w/ Fan Factor Data\"]"
   ]
  },
  {
   "cell_type": "code",
   "execution_count": 24,
   "id": "28a888f7-23a8-440d-b0ac-2f15a833f7c2",
   "metadata": {},
   "outputs": [],
   "source": [
    "# Save data into file\n",
    "women_basketball_2024_final.to_csv(folder_loc + r'\\women_basketball_2024.csv')"
   ]
  }
 ],
 "metadata": {
  "kernelspec": {
   "display_name": "Python 3 (ipykernel)",
   "language": "python",
   "name": "python3"
  },
  "language_info": {
   "codemirror_mode": {
    "name": "ipython",
    "version": 3
   },
   "file_extension": ".py",
   "mimetype": "text/x-python",
   "name": "python",
   "nbconvert_exporter": "python",
   "pygments_lexer": "ipython3",
   "version": "3.12.3"
  }
 },
 "nbformat": 4,
 "nbformat_minor": 5
}

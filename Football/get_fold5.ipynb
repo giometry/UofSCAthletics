{
 "cells": [
  {
   "cell_type": "markdown",
   "id": "88883dcb-42b3-49e7-84e1-6f481cb3b875",
   "metadata": {},
   "source": [
    "FOLD DID CONVERGE"
   ]
  },
  {
   "cell_type": "code",
   "execution_count": 2,
   "id": "2034034b-50e0-4578-a912-3c97f13e04a1",
   "metadata": {},
   "outputs": [],
   "source": [
    "# IMPORT PACKAGES\n",
    "import pandas as pd\n",
    "import numpy as np\n",
    "\n",
    "from sklearn.model_selection import KFold\n",
    "import pickle"
   ]
  },
  {
   "cell_type": "code",
   "execution_count": 3,
   "id": "11cd08e7-fc63-497f-86ee-76efd5cd0543",
   "metadata": {},
   "outputs": [],
   "source": [
    "# FILE LOCATION OF DATA\n",
    "project_folder = r'C:\\Users\\giova\\Documents\\School\\Classes\\Spring 2025\\Capstone Project\\Football2024'\n",
    "data_folder_loc = r'C:\\Users\\giova\\Documents\\School\\Classes\\Spring 2025\\Capstone Project\\Data'\n",
    "\n",
    "folds_file = r'\\folds_data.csv'"
   ]
  },
  {
   "cell_type": "code",
   "execution_count": 4,
   "id": "d5f2b12b-8761-4d3b-bd8f-0bbe716349dc",
   "metadata": {},
   "outputs": [],
   "source": [
    "# READ DATA\n",
    "folds_df = pd.read_csv(project_folder + folds_file)"
   ]
  },
  {
   "cell_type": "code",
   "execution_count": 5,
   "id": "2fbcede9-c0f2-43da-b3c2-b4df0bda01e5",
   "metadata": {},
   "outputs": [],
   "source": [
    "folds_df['FAN_PHONE_MARKETABLE1'] = (folds_df['FAN_PHONE_MARKETABLE'] == 1).astype(int)\n",
    "folds_df['HAS_OPENED_EMAIL1'] = (folds_df['HAS_OPENED_EMAIL'] == 1).astype(int)\n",
    "folds_df['HAS_DONATED1'] = (folds_df['HAS_DONATED'] == 1).astype(int)\n",
    "folds_df['HAS_MADE_PURCHASE1'] = (folds_df['HAS_MADE_PURCHASE'] == 1).astype(int)\n",
    "folds_df['DONATION_CURRENT_DONOR1'] = (folds_df['DONATION_CURRENT_DONOR'] == 1).astype(int)\n",
    "folds_df['ISRESOLD1'] = (folds_df['ISRESOLD'] == 1).astype(int)\n",
    "folds_df['TICKETING_CURRENTYEARSTM1'] = (folds_df['TICKETING_CURRENTYEARSTM'] == 1).astype(int)\n",
    "folds_df['TICKETING_PREVSEASONSTM1'] = (folds_df['TICKETING_PREVSEASONSTM'] == 1).astype(int)\n",
    "folds_df['FAN_POSTAL_MARKETABLE1'] = (folds_df['FAN_POSTAL_MARKETABLE'] == 1).astype(int)\n",
    "folds_df['ISRESOLD1'] = (folds_df['ISRESOLD'] == 1).astype(int)"
   ]
  },
  {
   "cell_type": "code",
   "execution_count": 6,
   "id": "fc80973d-2718-40fd-b5c5-c57bec3afc6e",
   "metadata": {},
   "outputs": [
    {
     "data": {
      "text/html": [
       "<div>\n",
       "<style scoped>\n",
       "    .dataframe tbody tr th:only-of-type {\n",
       "        vertical-align: middle;\n",
       "    }\n",
       "\n",
       "    .dataframe tbody tr th {\n",
       "        vertical-align: top;\n",
       "    }\n",
       "\n",
       "    .dataframe thead th {\n",
       "        text-align: right;\n",
       "    }\n",
       "</style>\n",
       "<table border=\"1\" class=\"dataframe\">\n",
       "  <thead>\n",
       "    <tr style=\"text-align: right;\">\n",
       "      <th></th>\n",
       "      <th>GRMCONTACTID</th>\n",
       "      <th>EVENTNAME</th>\n",
       "      <th>SECTIONNAME</th>\n",
       "      <th>ROWNAME</th>\n",
       "      <th>SEAT</th>\n",
       "      <th>REVENUETOTAL</th>\n",
       "      <th>PLANCODE</th>\n",
       "      <th>ISMOBILE</th>\n",
       "      <th>RESOLDTOTALAMOUNT</th>\n",
       "      <th>ISATTENDED</th>\n",
       "      <th>...</th>\n",
       "      <th>fold</th>\n",
       "      <th>FAN_PHONE_MARKETABLE1</th>\n",
       "      <th>HAS_OPENED_EMAIL1</th>\n",
       "      <th>HAS_DONATED1</th>\n",
       "      <th>HAS_MADE_PURCHASE1</th>\n",
       "      <th>DONATION_CURRENT_DONOR1</th>\n",
       "      <th>ISRESOLD1</th>\n",
       "      <th>TICKETING_CURRENTYEARSTM1</th>\n",
       "      <th>TICKETING_PREVSEASONSTM1</th>\n",
       "      <th>FAN_POSTAL_MARKETABLE1</th>\n",
       "    </tr>\n",
       "  </thead>\n",
       "  <tbody>\n",
       "    <tr>\n",
       "      <th>0</th>\n",
       "      <td>1&amp;&amp;000269ca-d64c-4cc9-871a-505ebcd59bda</td>\n",
       "      <td>VS. TIGERS</td>\n",
       "      <td>11</td>\n",
       "      <td>16</td>\n",
       "      <td>14</td>\n",
       "      <td>60.0</td>\n",
       "      <td>FB24</td>\n",
       "      <td>1</td>\n",
       "      <td>0.0</td>\n",
       "      <td>1</td>\n",
       "      <td>...</td>\n",
       "      <td>1</td>\n",
       "      <td>1</td>\n",
       "      <td>1</td>\n",
       "      <td>1</td>\n",
       "      <td>1</td>\n",
       "      <td>1</td>\n",
       "      <td>0</td>\n",
       "      <td>1</td>\n",
       "      <td>1</td>\n",
       "      <td>1</td>\n",
       "    </tr>\n",
       "    <tr>\n",
       "      <th>1</th>\n",
       "      <td>1&amp;&amp;000269ca-d64c-4cc9-871a-505ebcd59bda</td>\n",
       "      <td>VS. REBELS</td>\n",
       "      <td>11</td>\n",
       "      <td>16</td>\n",
       "      <td>15</td>\n",
       "      <td>70.0</td>\n",
       "      <td>FB24</td>\n",
       "      <td>0</td>\n",
       "      <td>0.0</td>\n",
       "      <td>1</td>\n",
       "      <td>...</td>\n",
       "      <td>1</td>\n",
       "      <td>1</td>\n",
       "      <td>1</td>\n",
       "      <td>1</td>\n",
       "      <td>1</td>\n",
       "      <td>1</td>\n",
       "      <td>0</td>\n",
       "      <td>1</td>\n",
       "      <td>1</td>\n",
       "      <td>1</td>\n",
       "    </tr>\n",
       "    <tr>\n",
       "      <th>2</th>\n",
       "      <td>1&amp;&amp;000269ca-d64c-4cc9-871a-505ebcd59bda</td>\n",
       "      <td>VS. TERRIERS</td>\n",
       "      <td>11</td>\n",
       "      <td>16</td>\n",
       "      <td>16</td>\n",
       "      <td>30.0</td>\n",
       "      <td>FB24</td>\n",
       "      <td>0</td>\n",
       "      <td>0.0</td>\n",
       "      <td>1</td>\n",
       "      <td>...</td>\n",
       "      <td>1</td>\n",
       "      <td>1</td>\n",
       "      <td>1</td>\n",
       "      <td>1</td>\n",
       "      <td>1</td>\n",
       "      <td>1</td>\n",
       "      <td>0</td>\n",
       "      <td>1</td>\n",
       "      <td>1</td>\n",
       "      <td>1</td>\n",
       "    </tr>\n",
       "    <tr>\n",
       "      <th>3</th>\n",
       "      <td>1&amp;&amp;000269ca-d64c-4cc9-871a-505ebcd59bda</td>\n",
       "      <td>VS. MONARCHS</td>\n",
       "      <td>11</td>\n",
       "      <td>16</td>\n",
       "      <td>14</td>\n",
       "      <td>35.0</td>\n",
       "      <td>FB24</td>\n",
       "      <td>0</td>\n",
       "      <td>0.0</td>\n",
       "      <td>1</td>\n",
       "      <td>...</td>\n",
       "      <td>1</td>\n",
       "      <td>1</td>\n",
       "      <td>1</td>\n",
       "      <td>1</td>\n",
       "      <td>1</td>\n",
       "      <td>1</td>\n",
       "      <td>0</td>\n",
       "      <td>1</td>\n",
       "      <td>1</td>\n",
       "      <td>1</td>\n",
       "    </tr>\n",
       "    <tr>\n",
       "      <th>4</th>\n",
       "      <td>1&amp;&amp;000269ca-d64c-4cc9-871a-505ebcd59bda</td>\n",
       "      <td>VS. REBELS</td>\n",
       "      <td>11</td>\n",
       "      <td>16</td>\n",
       "      <td>13</td>\n",
       "      <td>70.0</td>\n",
       "      <td>FB24</td>\n",
       "      <td>0</td>\n",
       "      <td>0.0</td>\n",
       "      <td>1</td>\n",
       "      <td>...</td>\n",
       "      <td>1</td>\n",
       "      <td>1</td>\n",
       "      <td>1</td>\n",
       "      <td>1</td>\n",
       "      <td>1</td>\n",
       "      <td>1</td>\n",
       "      <td>0</td>\n",
       "      <td>1</td>\n",
       "      <td>1</td>\n",
       "      <td>1</td>\n",
       "    </tr>\n",
       "  </tbody>\n",
       "</table>\n",
       "<p>5 rows × 71 columns</p>\n",
       "</div>"
      ],
      "text/plain": [
       "                              GRMCONTACTID     EVENTNAME SECTIONNAME ROWNAME  \\\n",
       "0  1&&000269ca-d64c-4cc9-871a-505ebcd59bda    VS. TIGERS          11      16   \n",
       "1  1&&000269ca-d64c-4cc9-871a-505ebcd59bda    VS. REBELS          11      16   \n",
       "2  1&&000269ca-d64c-4cc9-871a-505ebcd59bda  VS. TERRIERS          11      16   \n",
       "3  1&&000269ca-d64c-4cc9-871a-505ebcd59bda  VS. MONARCHS          11      16   \n",
       "4  1&&000269ca-d64c-4cc9-871a-505ebcd59bda    VS. REBELS          11      16   \n",
       "\n",
       "   SEAT  REVENUETOTAL PLANCODE  ISMOBILE  RESOLDTOTALAMOUNT  ISATTENDED  ...  \\\n",
       "0    14          60.0     FB24         1                0.0           1  ...   \n",
       "1    15          70.0     FB24         0                0.0           1  ...   \n",
       "2    16          30.0     FB24         0                0.0           1  ...   \n",
       "3    14          35.0     FB24         0                0.0           1  ...   \n",
       "4    13          70.0     FB24         0                0.0           1  ...   \n",
       "\n",
       "   fold  FAN_PHONE_MARKETABLE1  HAS_OPENED_EMAIL1  HAS_DONATED1  \\\n",
       "0     1                      1                  1             1   \n",
       "1     1                      1                  1             1   \n",
       "2     1                      1                  1             1   \n",
       "3     1                      1                  1             1   \n",
       "4     1                      1                  1             1   \n",
       "\n",
       "   HAS_MADE_PURCHASE1 DONATION_CURRENT_DONOR1 ISRESOLD1  \\\n",
       "0                   1                       1         0   \n",
       "1                   1                       1         0   \n",
       "2                   1                       1         0   \n",
       "3                   1                       1         0   \n",
       "4                   1                       1         0   \n",
       "\n",
       "   TICKETING_CURRENTYEARSTM1  TICKETING_PREVSEASONSTM1  FAN_POSTAL_MARKETABLE1  \n",
       "0                          1                         1                       1  \n",
       "1                          1                         1                       1  \n",
       "2                          1                         1                       1  \n",
       "3                          1                         1                       1  \n",
       "4                          1                         1                       1  \n",
       "\n",
       "[5 rows x 71 columns]"
      ]
     },
     "execution_count": 6,
     "metadata": {},
     "output_type": "execute_result"
    }
   ],
   "source": [
    "folds_df.head()"
   ]
  },
  {
   "cell_type": "code",
   "execution_count": 7,
   "id": "3f442728-2038-4cce-b4d4-12a01f3143f3",
   "metadata": {},
   "outputs": [],
   "source": [
    "fold1_train = folds_df[folds_df['fold'] != 1]\n",
    "fold1_test = folds_df[folds_df['fold'] == 1]"
   ]
  },
  {
   "cell_type": "code",
   "execution_count": 8,
   "id": "a4eacdb5-09bb-44ab-a5ae-381f30b290ac",
   "metadata": {},
   "outputs": [],
   "source": [
    "fold2_train = folds_df[folds_df['fold'] != 2]\n",
    "fold2_test = folds_df[folds_df['fold'] == 2]"
   ]
  },
  {
   "cell_type": "code",
   "execution_count": 9,
   "id": "1326e501-e413-4a5f-a0a0-04edee9a53b7",
   "metadata": {},
   "outputs": [],
   "source": [
    "fold3_train = folds_df[folds_df['fold'] != 3]\n",
    "fold3_test = folds_df[folds_df['fold'] == 3]"
   ]
  },
  {
   "cell_type": "code",
   "execution_count": 10,
   "id": "6d903076-ea19-4531-a851-8a685293534d",
   "metadata": {},
   "outputs": [],
   "source": [
    "fold4_train = folds_df[folds_df['fold'] != 4]\n",
    "fold4_test = folds_df[folds_df['fold'] == 4]"
   ]
  },
  {
   "cell_type": "code",
   "execution_count": 11,
   "id": "37843458-61de-4e55-82fd-5483c2addca7",
   "metadata": {},
   "outputs": [],
   "source": [
    "fold5_train = folds_df[folds_df['fold'] != 5]\n",
    "fold5_test = folds_df[folds_df['fold'] == 5]"
   ]
  },
  {
   "cell_type": "code",
   "execution_count": 12,
   "id": "7d5d1a40-c2c8-482e-9a4b-4047df639d69",
   "metadata": {},
   "outputs": [],
   "source": [
    "import numpy as np\n",
    "\n",
    "def predict_probability5(row):\n",
    "    score = 2.504101  # Intercept\n",
    "\n",
    "    # Individual features\n",
    "    score += -0.078113 * row.get('DONATION_CURRENT_DONATION_AMOUNT', 0)\n",
    "    score += 0.275871 * row.get('FAN_PHONE_MARKETABLE1', 0)\n",
    "    score += -0.526754 * row.get('TICKETING_CURRENTYEARSTM1', 0)\n",
    "    score += 0.141072 * row.get('TICKETING_PREVSEASONSTM1', 0)\n",
    "    score += 0.143934 * row.get('DONATION_CURRENT_DONOR1', 0)\n",
    "    score += 0.052160 * row.get('HAS_OPENED_EMAIL1', 0)\n",
    "    score += 0.132221 * row.get('HAS_DONATED1', 0)\n",
    "    score += -0.024172 * row.get('HAS_MADE_PURCHASE1', 0)\n",
    "\n",
    "    # Seating colors\n",
    "    seating_coefs = {\n",
    "        'Blue': 0.148611,\n",
    "        'Garnet': 0.261783,\n",
    "        'Gray': -0.048473,\n",
    "        'Green': 0.002952,\n",
    "        'Hot Pink': 0.043107,\n",
    "        'Light Blue': 0.824935,\n",
    "        'Lime Green': 0.395679,\n",
    "        'Other': 0.634061,\n",
    "        'Pink': 0.377189,\n",
    "        'Purple': 0.729664,\n",
    "        'Red': 0.105274,\n",
    "        'Tan': 0.791908,\n",
    "        'Teal': 0.062298,\n",
    "        'White': 1.158752,\n",
    "        'Yellow': 0.073409,\n",
    "    }\n",
    "    for color, coef in seating_coefs.items():\n",
    "        score += coef * row.get(f'SEATING{color}', 0)\n",
    "\n",
    "    # Lead source (initial)\n",
    "    score += -0.222132 * row.get('FAN_INITIAL_LEAD_SOURCEGamecocksMigration', 0)\n",
    "    score += -0.158185 * row.get('FAN_INITIAL_LEAD_SOURCESalesforce', 0)\n",
    "    score += -0.293285 * row.get('FAN_INITIAL_LEAD_SOURCESFMC', 0)\n",
    "    score += 0.182781 * row.get('FAN_INITIAL_LEAD_SOURCETicketmaster', 0)\n",
    "\n",
    "    # Lead source (last)\n",
    "    score += -0.165238 * row.get('FAN_LAST_LEAD_SOURCEGamecocksMigration', 0)\n",
    "    score += 0.107205 * row.get('FAN_LAST_LEAD_SOURCESalesforce', 0)\n",
    "    score += -0.087636 * row.get('FAN_LAST_LEAD_SOURCESFMC', 0)\n",
    "    score += -0.174455 * row.get('FAN_LAST_LEAD_SOURCETicketmaster', 0)\n",
    "\n",
    "    # Other categorical / binary variables\n",
    "    score += 0.058309 * row.get('FAN_POSTAL_MARKETABLE1', 0)\n",
    "    score += 0.931542 * row.get('ISRESOLD1', 0)\n",
    "\n",
    "    # Event names\n",
    "    score += -0.866664 * row.get('EVENTNAMEVS. MONARCHS', 0)\n",
    "    score += -0.151491 * row.get('EVENTNAMEVS. REBELS', 0)\n",
    "    score += -0.913699 * row.get('EVENTNAMEVS. TERRIERS', 0)\n",
    "    score += -0.159283 * row.get('EVENTNAMEVS. TIGERS', 0)\n",
    "    score += -0.821964 * row.get('EVENTNAMEVS. ZIPS', 0)\n",
    "\n",
    "    # Plan codes\n",
    "    score += -0.801748 * row.get('PLANCODEFB24-1', 0)\n",
    "    score += -1.267850 * row.get('PLANCODEGCFREE25', 0)\n",
    "    score += -0.160148 * row.get('PLANCODEUnknown/Not Specified', 0)\n",
    "\n",
    "    # Continuous ticketing and revenue features\n",
    "    score += -0.651786 * row.get('TICKETING_TICKETS_SCANNED', 0)\n",
    "    score += 0.079762 * row.get('TICKETING_TICKET_TOTAL_SPEND', 0)\n",
    "    score += -0.141977 * row.get('TICKETING_STM_TENURE', 0)\n",
    "    score += 0.222899 * row.get('TICKETING_GAMES_SOLD_SECONDARY', 0)\n",
    "    score += 0.303247 * row.get('TICKETING_GAMES_SCANNED', 0)\n",
    "    score += -0.009824 * row.get('TICKETING_GAMES_PURCHASED_SECONDARY', 0)\n",
    "    score += 1.272961 * row.get('TICKETING_ATTENDANCE_SEASON_PCT', 0)\n",
    "    score += 0.007003 * row.get('TICKETING_ATTENDANCE_LIFETIME_PCT', 0)\n",
    "    score += 0.061639 * row.get('REVENUETOTAL', 0)\n",
    "    score += -0.047822 * row.get('RESOLDTOTALAMOUNT', 0)\n",
    "\n",
    "    # Merchandise features\n",
    "    score += -0.040924 * row.get('MERCH_TOTALSPENT_LIFETIME', 0)\n",
    "    score += 0.005174 * row.get('MERCH_TOTALSPENT_90DAYS', 0)\n",
    "    score += -0.052278 * row.get('MERCH_TOTALSPENT_365DAYS', 0)\n",
    "    score += 0.001408 * row.get('MERCH_TOTALSPENT_30DAYS', 0)\n",
    "\n",
    "    score += 0.039458 * row.get('FAN_UNIQUE_SOURCESYSTEM_COUNT', 0)\n",
    "    score += -0.168344 * row.get('ENGAGEMENT', 0)\n",
    "    score += 0.020631 * row.get('EMAIL_EMAIL_OPEN_PCT', 0)\n",
    "    score += 0.010120 * row.get('EMAIL_EMAIL_OPEN_COUNT', 0)\n",
    "    score += 0.048658 * row.get('EMAIL_EMAIL_CLICK_PCT', 0)\n",
    "    score += -0.023542 * row.get('DONATION_TOTAL_DONATION_AMOUNT', 0)\n",
    "    score += -0.034088 * row.get('DONATION_MAX_DONATION_AMOUNT', 0)\n",
    "    \n",
    "    # Final prediction using sigmoid\n",
    "    prob = 1 / (1 + np.exp(-score))\n",
    "    return prob"
   ]
  },
  {
   "cell_type": "code",
   "execution_count": 13,
   "id": "e49155c2-1dce-4be4-b0a2-7c7fd213b8a2",
   "metadata": {},
   "outputs": [
    {
     "name": "stderr",
     "output_type": "stream",
     "text": [
      "C:\\Users\\giova\\AppData\\Local\\Temp\\ipykernel_15392\\3347736499.py:27: FutureWarning: Setting an item of incompatible dtype is deprecated and will raise in a future error of pandas. Value '[-0.38302119 -0.38302119 -0.38302119 ...  0.23239154  0.23239154\n",
      "  0.23239154]' has dtype incompatible with int64, please explicitly cast to a compatible dtype first.\n",
      "  fold5_train.loc[:, col] = ((fold5_train[col].astype(float) - mean) / std)\n",
      "C:\\Users\\giova\\AppData\\Local\\Temp\\ipykernel_15392\\3347736499.py:27: FutureWarning: Setting an item of incompatible dtype is deprecated and will raise in a future error of pandas. Value '[-0.28766213 -0.28766213 -0.28766213 ... -0.12162274 -0.12162274\n",
      " -0.12162274]' has dtype incompatible with int64, please explicitly cast to a compatible dtype first.\n",
      "  fold5_train.loc[:, col] = ((fold5_train[col].astype(float) - mean) / std)\n",
      "C:\\Users\\giova\\AppData\\Local\\Temp\\ipykernel_15392\\3347736499.py:27: FutureWarning: Setting an item of incompatible dtype is deprecated and will raise in a future error of pandas. Value '[-0.16656761 -0.16656761 -0.16656761 ... -0.12957636 -0.12957636\n",
      " -0.12957636]' has dtype incompatible with int64, please explicitly cast to a compatible dtype first.\n",
      "  fold5_train.loc[:, col] = ((fold5_train[col].astype(float) - mean) / std)\n",
      "C:\\Users\\giova\\AppData\\Local\\Temp\\ipykernel_15392\\3347736499.py:27: FutureWarning: Setting an item of incompatible dtype is deprecated and will raise in a future error of pandas. Value '[ 0.41139023  0.41139023  0.41139023 ... -0.23635063 -0.23635063\n",
      " -0.23635063]' has dtype incompatible with int64, please explicitly cast to a compatible dtype first.\n",
      "  fold5_train.loc[:, col] = ((fold5_train[col].astype(float) - mean) / std)\n",
      "C:\\Users\\giova\\AppData\\Local\\Temp\\ipykernel_15392\\3347736499.py:27: FutureWarning: Setting an item of incompatible dtype is deprecated and will raise in a future error of pandas. Value '[-0.34188265 -0.34188265 -0.34188265 ... -0.34188265 -0.34188265\n",
      " -0.34188265]' has dtype incompatible with int64, please explicitly cast to a compatible dtype first.\n",
      "  fold5_train.loc[:, col] = ((fold5_train[col].astype(float) - mean) / std)\n",
      "C:\\Users\\giova\\AppData\\Local\\Temp\\ipykernel_15392\\3347736499.py:27: FutureWarning: Setting an item of incompatible dtype is deprecated and will raise in a future error of pandas. Value '[ 1.22806651  1.22806651  1.22806651 ... -0.86145318 -0.86145318\n",
      " -0.86145318]' has dtype incompatible with int64, please explicitly cast to a compatible dtype first.\n",
      "  fold5_train.loc[:, col] = ((fold5_train[col].astype(float) - mean) / std)\n",
      "C:\\Users\\giova\\AppData\\Local\\Temp\\ipykernel_15392\\3347736499.py:27: FutureWarning: Setting an item of incompatible dtype is deprecated and will raise in a future error of pandas. Value '[-0.01383702 -0.01383702 -0.01383702 ... -0.17297161 -0.17297161\n",
      " -0.17297161]' has dtype incompatible with int64, please explicitly cast to a compatible dtype first.\n",
      "  fold5_train.loc[:, col] = ((fold5_train[col].astype(float) - mean) / std)\n",
      "C:\\Users\\giova\\AppData\\Local\\Temp\\ipykernel_15392\\3347736499.py:27: FutureWarning: Setting an item of incompatible dtype is deprecated and will raise in a future error of pandas. Value '[-0.18080854 -0.18080854 -0.18080854 ...  0.44490757  0.44490757\n",
      "  0.44490757]' has dtype incompatible with int64, please explicitly cast to a compatible dtype first.\n",
      "  fold5_train.loc[:, col] = ((fold5_train[col].astype(float) - mean) / std)\n",
      "C:\\Users\\giova\\AppData\\Local\\Temp\\ipykernel_15392\\3347736499.py:27: FutureWarning: Setting an item of incompatible dtype is deprecated and will raise in a future error of pandas. Value '[ 0.96620461  0.96620461  0.96620461 ... -0.48945628 -0.48945628\n",
      " -0.48945628]' has dtype incompatible with int64, please explicitly cast to a compatible dtype first.\n",
      "  fold5_train.loc[:, col] = ((fold5_train[col].astype(float) - mean) / std)\n"
     ]
    }
   ],
   "source": [
    "# List of columns and their corresponding means and stds\n",
    "# Updated normalization info with new means and standard deviations\n",
    "normalize_info = {\n",
    "    'REVENUETOTAL': (52.68777, 28.20813),\n",
    "    'RESOLDTOTALAMOUNT': (6.707656, 36.25792),\n",
    "    'TICKETING_STM_TENURE': (6.489524, 6.499703),\n",
    "    'TICKETING_GAMES_SCANNED': (46.78992, 72.27201),\n",
    "    'TICKETING_TICKETS_SCANNED': (467.2487, 2324.874),\n",
    "    'TICKETING_GAMES_SOLD_SECONDARY': (4.01373, 16.9821),\n",
    "    'TICKETING_GAMES_PURCHASED_SECONDARY': (0.5798381, 1.696015),\n",
    "    'TICKETING_TICKET_TOTAL_SPEND': (117526.1, 282487.6),\n",
    "    'DONATION_MAX_DONATION_AMOUNT': (4827.192, 38300.25),\n",
    "    'DONATION_TOTAL_DONATION_AMOUNT': (70055.98, 352356.4),\n",
    "    'DONATION_CURRENT_DONATION_AMOUNT': (63256.07, 240200),\n",
    "    'EMAIL_EMAIL_OPEN_COUNT': (365.7132, 394.349),\n",
    "    'MERCH_TOTALSPENT_30DAYS': (0.4038484, 7.767434),\n",
    "    'MERCH_TOTALSPENT_90DAYS': (10.04982, 51.95344),\n",
    "    'MERCH_TOTALSPENT_365DAYS': (29.29637, 106.7502),\n",
    "    'MERCH_TOTALSPENT_LIFETIME': (122.9247, 334.3418),\n",
    "    'EMAIL_OPEN_TIME_DIFF': (0.08695168, 6.283989),\n",
    "    'DAYS_SINCE_LAST_DONATION': (184.5135, 533.7884),\n",
    "    'DAYS_SINCE_LAST_PURCHASE': (198.3923, 407.3751)\n",
    "}\n",
    "\n",
    "# Normalize each column\n",
    "for col, (mean, std) in normalize_info.items():\n",
    "    fold5_train.loc[:, col] = ((fold5_train[col].astype(float) - mean) / std)"
   ]
  },
  {
   "cell_type": "code",
   "execution_count": 14,
   "id": "aadec1cb-78b8-4831-87d5-a120cc5bb20f",
   "metadata": {},
   "outputs": [
    {
     "name": "stderr",
     "output_type": "stream",
     "text": [
      "C:\\Users\\giova\\AppData\\Local\\Temp\\ipykernel_15392\\2134361000.py:1: SettingWithCopyWarning: \n",
      "A value is trying to be set on a copy of a slice from a DataFrame.\n",
      "Try using .loc[row_indexer,col_indexer] = value instead\n",
      "\n",
      "See the caveats in the documentation: https://pandas.pydata.org/pandas-docs/stable/user_guide/indexing.html#returning-a-view-versus-a-copy\n",
      "  fold5_train.loc[:, 'predicted_prob'] = fold5_train.apply(predict_probability5, axis=1)\n"
     ]
    }
   ],
   "source": [
    "fold5_train.loc[:, 'predicted_prob'] = fold5_train.apply(predict_probability5, axis=1)"
   ]
  },
  {
   "cell_type": "code",
   "execution_count": 15,
   "id": "973b8580-8b74-4cc8-8f45-5c0401c14105",
   "metadata": {},
   "outputs": [
    {
     "data": {
      "image/png": "[encoded data removed]",
      "text/plain": [
       "<Figure size 800x500 with 1 Axes>"
      ]
     },
     "metadata": {},
     "output_type": "display_data"
    }
   ],
   "source": [
    "import matplotlib.pyplot as plt\n",
    "\n",
    "plt.figure(figsize=(8, 5))\n",
    "plt.hist(fold5_train['predicted_prob'], bins=30, color='skyblue', edgecolor='black')\n",
    "plt.title('Distribution of Predicted Probabilities')\n",
    "plt.xlabel('Predicted Probability')\n",
    "plt.ylabel('Count')\n",
    "plt.grid(True)\n",
    "plt.show()"
   ]
  },
  {
   "cell_type": "code",
   "execution_count": 16,
   "id": "c0c360a6-cfc3-45be-a574-7cee26bc5f51",
   "metadata": {},
   "outputs": [
    {
     "data": {
      "image/png": "[encoded data removed]",
      "text/plain": [
       "<Figure size 800x500 with 1 Axes>"
      ]
     },
     "metadata": {},
     "output_type": "display_data"
    }
   ],
   "source": [
    "from sklearn.metrics import roc_curve, roc_auc_score\n",
    "\n",
    "# True labels and predicted probabilities\n",
    "y_true = fold5_train['ISATTENDED']\n",
    "y_scores = fold5_train['predicted_prob']\n",
    "\n",
    "# Get false positive rate, true positive rate, and thresholds\n",
    "fpr, tpr, thresholds = roc_curve(y_true, y_scores)\n",
    "\n",
    "# Compute AUC\n",
    "auc = roc_auc_score(y_true, y_scores)\n",
    "\n",
    "# Plot ROC Curve\n",
    "plt.figure(figsize=(8, 5))\n",
    "plt.plot(fpr, tpr, label=f'ROC Curve (AUC = {auc:.2f})', color='darkorange')\n",
    "plt.plot([0, 1], [0, 1], linestyle='--', color='gray')  # Diagonal line\n",
    "plt.xlabel('False Positive Rate')\n",
    "plt.ylabel('True Positive Rate')\n",
    "plt.title('Receiver Operating Characteristic (ROC) Curve')\n",
    "plt.legend(loc='lower right')\n",
    "plt.grid(True)\n",
    "plt.show()"
   ]
  },
  {
   "cell_type": "code",
   "execution_count": 17,
   "id": "a181085b-4f89-4ff3-a1fc-ef5c9439c0f8",
   "metadata": {},
   "outputs": [
    {
     "name": "stdout",
     "output_type": "stream",
     "text": [
      "Best threshold based on Youden's J: 0.9474\n"
     ]
    }
   ],
   "source": [
    "# Youden's J statistic\n",
    "j_scores = tpr - fpr\n",
    "best_index = j_scores.argmax()\n",
    "best_threshold = thresholds[best_index]\n",
    "\n",
    "print(f\"Best threshold based on Youden's J: {best_threshold:.4f}\")"
   ]
  },
  {
   "cell_type": "code",
   "execution_count": 18,
   "id": "49aee9fe-213c-47f7-9010-663e1612f9cb",
   "metadata": {},
   "outputs": [
    {
     "name": "stderr",
     "output_type": "stream",
     "text": [
      "C:\\Users\\giova\\AppData\\Local\\Temp\\ipykernel_15392\\3455335491.py:5: SettingWithCopyWarning: \n",
      "A value is trying to be set on a copy of a slice from a DataFrame.\n",
      "Try using .loc[row_indexer,col_indexer] = value instead\n",
      "\n",
      "See the caveats in the documentation: https://pandas.pydata.org/pandas-docs/stable/user_guide/indexing.html#returning-a-view-versus-a-copy\n",
      "  fold5_train['predicted_label'] = (fold5_train['predicted_prob'] >= threshold).astype(int)\n"
     ]
    },
    {
     "data": {
      "text/plain": [
       "array([[  4377,  37036],\n",
       "       [  2136, 270499]], dtype=int64)"
      ]
     },
     "execution_count": 18,
     "metadata": {},
     "output_type": "execute_result"
    }
   ],
   "source": [
    "from sklearn.metrics import confusion_matrix, accuracy_score\n",
    "\n",
    "# Step 1: Create binary predictions\n",
    "threshold = 0.8\n",
    "fold5_train['predicted_label'] = (fold5_train['predicted_prob'] >= threshold).astype(int)\n",
    "\n",
    "# Step 2: Get confusion matrix\n",
    "cm = confusion_matrix(fold5_train['ISATTENDED'], fold5_train['predicted_label'])\n",
    "cm"
   ]
  },
  {
   "cell_type": "code",
   "execution_count": 19,
   "id": "cd373035-ff3a-468a-bbf5-ef7dad676ba2",
   "metadata": {},
   "outputs": [
    {
     "data": {
      "text/plain": [
       "0.8752674750356634"
      ]
     },
     "execution_count": 19,
     "metadata": {},
     "output_type": "execute_result"
    }
   ],
   "source": [
    "accuracy_score(fold5_train['ISATTENDED'], fold5_train['predicted_label'])"
   ]
  },
  {
   "cell_type": "code",
   "execution_count": 20,
   "id": "45c6cd30-e3a4-4294-8c5b-39a9d974ee8a",
   "metadata": {},
   "outputs": [
    {
     "name": "stderr",
     "output_type": "stream",
     "text": [
      "C:\\Users\\giova\\AppData\\Local\\Temp\\ipykernel_15392\\72827653.py:92: RuntimeWarning: overflow encountered in exp\n",
      "  prob = 1 / (1 + np.exp(-score))\n",
      "C:\\Users\\giova\\AppData\\Local\\Temp\\ipykernel_15392\\195032880.py:1: SettingWithCopyWarning: \n",
      "A value is trying to be set on a copy of a slice from a DataFrame.\n",
      "Try using .loc[row_indexer,col_indexer] = value instead\n",
      "\n",
      "See the caveats in the documentation: https://pandas.pydata.org/pandas-docs/stable/user_guide/indexing.html#returning-a-view-versus-a-copy\n",
      "  fold5_test.loc[:, 'predicted_prob'] = fold5_test.apply(predict_probability5, axis=1)\n"
     ]
    }
   ],
   "source": [
    "fold5_test.loc[:, 'predicted_prob'] = fold5_test.apply(predict_probability5, axis=1)"
   ]
  },
  {
   "cell_type": "code",
   "execution_count": 21,
   "id": "2ce15afd-a557-4431-a297-d3e4716b18f9",
   "metadata": {},
   "outputs": [
    {
     "data": {
      "image/png": "[encoded data removed]",
      "text/plain": [
       "<Figure size 800x500 with 1 Axes>"
      ]
     },
     "metadata": {},
     "output_type": "display_data"
    }
   ],
   "source": [
    "import matplotlib.pyplot as plt\n",
    "\n",
    "plt.figure(figsize=(8, 5))\n",
    "plt.hist(fold5_test['predicted_prob'], bins=30, color='skyblue', edgecolor='black')\n",
    "plt.title('Distribution of Predicted Probabilities')\n",
    "plt.xlabel('Predicted Probability')\n",
    "plt.ylabel('Count')\n",
    "plt.grid(True)\n",
    "plt.show()"
   ]
  },
  {
   "cell_type": "code",
   "execution_count": 22,
   "id": "30d341b1-cfcf-433b-a16f-03d56daae6f5",
   "metadata": {},
   "outputs": [
    {
     "name": "stderr",
     "output_type": "stream",
     "text": [
      "C:\\Users\\giova\\AppData\\Local\\Temp\\ipykernel_15392\\1419978801.py:1: SettingWithCopyWarning: \n",
      "A value is trying to be set on a copy of a slice from a DataFrame.\n",
      "Try using .loc[row_indexer,col_indexer] = value instead\n",
      "\n",
      "See the caveats in the documentation: https://pandas.pydata.org/pandas-docs/stable/user_guide/indexing.html#returning-a-view-versus-a-copy\n",
      "  fold5_test['predicted_label'] = (fold5_test['predicted_prob'] >= threshold).astype(int)\n"
     ]
    },
    {
     "data": {
      "text/plain": [
       "array([[ 4161,  6383],\n",
       "       [28637, 55106]], dtype=int64)"
      ]
     },
     "execution_count": 22,
     "metadata": {},
     "output_type": "execute_result"
    }
   ],
   "source": [
    "fold5_test['predicted_label'] = (fold5_test['predicted_prob'] >= threshold).astype(int)\n",
    "\n",
    "# Step 2: Get confusion matrix\n",
    "cm = confusion_matrix(fold5_test['ISATTENDED'], fold5_test['predicted_label'])\n",
    "cm"
   ]
  },
  {
   "cell_type": "code",
   "execution_count": 23,
   "id": "1d649032-9f51-45ee-8491-0a68f1ad3442",
   "metadata": {},
   "outputs": [
    {
     "data": {
      "text/plain": [
       "0.6285808223827251"
      ]
     },
     "execution_count": 23,
     "metadata": {},
     "output_type": "execute_result"
    }
   ],
   "source": [
    "accuracy_score(fold5_test['ISATTENDED'], fold5_test['predicted_label'])"
   ]
  }
 ],
 "metadata": {
  "kernelspec": {
   "display_name": "Python 3 (ipykernel)",
   "language": "python",
   "name": "python3"
  },
  "language_info": {
   "codemirror_mode": {
    "name": "ipython",
    "version": 3
   },
   "file_extension": ".py",
   "mimetype": "text/x-python",
   "name": "python",
   "nbconvert_exporter": "python",
   "pygments_lexer": "ipython3",
   "version": "3.12.3"
  }
 },
 "nbformat": 4,
 "nbformat_minor": 5
}

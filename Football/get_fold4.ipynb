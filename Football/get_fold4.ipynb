{
 "cells": [
  {
   "cell_type": "markdown",
   "id": "9a5746fd-14a0-4b0c-9a9b-4aeb983679a8",
   "metadata": {},
   "source": [
    "FOLD DID CONVERGE"
   ]
  },
  {
   "cell_type": "code",
   "execution_count": 2,
   "id": "2034034b-50e0-4578-a912-3c97f13e04a1",
   "metadata": {},
   "outputs": [],
   "source": [
    "# IMPORT PACKAGES\n",
    "import pandas as pd\n",
    "import numpy as np\n",
    "\n",
    "from sklearn.model_selection import KFold\n",
    "import pickle"
   ]
  },
  {
   "cell_type": "code",
   "execution_count": 3,
   "id": "11cd08e7-fc63-497f-86ee-76efd5cd0543",
   "metadata": {},
   "outputs": [],
   "source": [
    "# FILE LOCATION OF DATA\n",
    "project_folder = r'C:\\Users\\giova\\Documents\\School\\Classes\\Spring 2025\\Capstone Project\\Football2024'\n",
    "data_folder_loc = r'C:\\Users\\giova\\Documents\\School\\Classes\\Spring 2025\\Capstone Project\\Data'\n",
    "\n",
    "folds_file = r'\\folds_data.csv'"
   ]
  },
  {
   "cell_type": "code",
   "execution_count": 4,
   "id": "d5f2b12b-8761-4d3b-bd8f-0bbe716349dc",
   "metadata": {},
   "outputs": [],
   "source": [
    "# READ DATA\n",
    "folds_df = pd.read_csv(project_folder + folds_file)"
   ]
  },
  {
   "cell_type": "code",
   "execution_count": 5,
   "id": "2fbcede9-c0f2-43da-b3c2-b4df0bda01e5",
   "metadata": {},
   "outputs": [],
   "source": [
    "folds_df['FAN_PHONE_MARKETABLE1'] = (folds_df['FAN_PHONE_MARKETABLE'] == 1).astype(int)\n",
    "folds_df['HAS_OPENED_EMAIL1'] = (folds_df['HAS_OPENED_EMAIL'] == 1).astype(int)\n",
    "folds_df['HAS_DONATED1'] = (folds_df['HAS_DONATED'] == 1).astype(int)\n",
    "folds_df['HAS_MADE_PURCHASE1'] = (folds_df['HAS_MADE_PURCHASE'] == 1).astype(int)\n",
    "folds_df['DONATION_CURRENT_DONOR1'] = (folds_df['DONATION_CURRENT_DONOR'] == 1).astype(int)\n",
    "folds_df['ISRESOLD1'] = (folds_df['ISRESOLD'] == 1).astype(int)\n",
    "folds_df['TICKETING_CURRENTYEARSTM1'] = (folds_df['TICKETING_CURRENTYEARSTM'] == 1).astype(int)\n",
    "folds_df['TICKETING_PREVSEASONSTM1'] = (folds_df['TICKETING_PREVSEASONSTM'] == 1).astype(int)\n",
    "folds_df['FAN_POSTAL_MARKETABLE1'] = (folds_df['FAN_POSTAL_MARKETABLE'] == 1).astype(int)\n",
    "folds_df['ISRESOLD1'] = (folds_df['ISRESOLD'] == 1).astype(int)"
   ]
  },
  {
   "cell_type": "code",
   "execution_count": 6,
   "id": "fc80973d-2718-40fd-b5c5-c57bec3afc6e",
   "metadata": {},
   "outputs": [
    {
     "data": {
      "text/html": [
       "<div>\n",
       "<style scoped>\n",
       "    .dataframe tbody tr th:only-of-type {\n",
       "        vertical-align: middle;\n",
       "    }\n",
       "\n",
       "    .dataframe tbody tr th {\n",
       "        vertical-align: top;\n",
       "    }\n",
       "\n",
       "    .dataframe thead th {\n",
       "        text-align: right;\n",
       "    }\n",
       "</style>\n",
       "<table border=\"1\" class=\"dataframe\">\n",
       "  <thead>\n",
       "    <tr style=\"text-align: right;\">\n",
       "      <th></th>\n",
       "      <th>GRMCONTACTID</th>\n",
       "      <th>EVENTNAME</th>\n",
       "      <th>SECTIONNAME</th>\n",
       "      <th>ROWNAME</th>\n",
       "      <th>SEAT</th>\n",
       "      <th>REVENUETOTAL</th>\n",
       "      <th>PLANCODE</th>\n",
       "      <th>ISMOBILE</th>\n",
       "      <th>RESOLDTOTALAMOUNT</th>\n",
       "      <th>ISATTENDED</th>\n",
       "      <th>...</th>\n",
       "      <th>fold</th>\n",
       "      <th>FAN_PHONE_MARKETABLE1</th>\n",
       "      <th>HAS_OPENED_EMAIL1</th>\n",
       "      <th>HAS_DONATED1</th>\n",
       "      <th>HAS_MADE_PURCHASE1</th>\n",
       "      <th>DONATION_CURRENT_DONOR1</th>\n",
       "      <th>ISRESOLD1</th>\n",
       "      <th>TICKETING_CURRENTYEARSTM1</th>\n",
       "      <th>TICKETING_PREVSEASONSTM1</th>\n",
       "      <th>FAN_POSTAL_MARKETABLE1</th>\n",
       "    </tr>\n",
       "  </thead>\n",
       "  <tbody>\n",
       "    <tr>\n",
       "      <th>0</th>\n",
       "      <td>1&amp;&amp;000269ca-d64c-4cc9-871a-505ebcd59bda</td>\n",
       "      <td>VS. TIGERS</td>\n",
       "      <td>11</td>\n",
       "      <td>16</td>\n",
       "      <td>14</td>\n",
       "      <td>60.0</td>\n",
       "      <td>FB24</td>\n",
       "      <td>1</td>\n",
       "      <td>0.0</td>\n",
       "      <td>1</td>\n",
       "      <td>...</td>\n",
       "      <td>1</td>\n",
       "      <td>1</td>\n",
       "      <td>1</td>\n",
       "      <td>1</td>\n",
       "      <td>1</td>\n",
       "      <td>1</td>\n",
       "      <td>0</td>\n",
       "      <td>1</td>\n",
       "      <td>1</td>\n",
       "      <td>1</td>\n",
       "    </tr>\n",
       "    <tr>\n",
       "      <th>1</th>\n",
       "      <td>1&amp;&amp;000269ca-d64c-4cc9-871a-505ebcd59bda</td>\n",
       "      <td>VS. REBELS</td>\n",
       "      <td>11</td>\n",
       "      <td>16</td>\n",
       "      <td>15</td>\n",
       "      <td>70.0</td>\n",
       "      <td>FB24</td>\n",
       "      <td>0</td>\n",
       "      <td>0.0</td>\n",
       "      <td>1</td>\n",
       "      <td>...</td>\n",
       "      <td>1</td>\n",
       "      <td>1</td>\n",
       "      <td>1</td>\n",
       "      <td>1</td>\n",
       "      <td>1</td>\n",
       "      <td>1</td>\n",
       "      <td>0</td>\n",
       "      <td>1</td>\n",
       "      <td>1</td>\n",
       "      <td>1</td>\n",
       "    </tr>\n",
       "    <tr>\n",
       "      <th>2</th>\n",
       "      <td>1&amp;&amp;000269ca-d64c-4cc9-871a-505ebcd59bda</td>\n",
       "      <td>VS. TERRIERS</td>\n",
       "      <td>11</td>\n",
       "      <td>16</td>\n",
       "      <td>16</td>\n",
       "      <td>30.0</td>\n",
       "      <td>FB24</td>\n",
       "      <td>0</td>\n",
       "      <td>0.0</td>\n",
       "      <td>1</td>\n",
       "      <td>...</td>\n",
       "      <td>1</td>\n",
       "      <td>1</td>\n",
       "      <td>1</td>\n",
       "      <td>1</td>\n",
       "      <td>1</td>\n",
       "      <td>1</td>\n",
       "      <td>0</td>\n",
       "      <td>1</td>\n",
       "      <td>1</td>\n",
       "      <td>1</td>\n",
       "    </tr>\n",
       "    <tr>\n",
       "      <th>3</th>\n",
       "      <td>1&amp;&amp;000269ca-d64c-4cc9-871a-505ebcd59bda</td>\n",
       "      <td>VS. MONARCHS</td>\n",
       "      <td>11</td>\n",
       "      <td>16</td>\n",
       "      <td>14</td>\n",
       "      <td>35.0</td>\n",
       "      <td>FB24</td>\n",
       "      <td>0</td>\n",
       "      <td>0.0</td>\n",
       "      <td>1</td>\n",
       "      <td>...</td>\n",
       "      <td>1</td>\n",
       "      <td>1</td>\n",
       "      <td>1</td>\n",
       "      <td>1</td>\n",
       "      <td>1</td>\n",
       "      <td>1</td>\n",
       "      <td>0</td>\n",
       "      <td>1</td>\n",
       "      <td>1</td>\n",
       "      <td>1</td>\n",
       "    </tr>\n",
       "    <tr>\n",
       "      <th>4</th>\n",
       "      <td>1&amp;&amp;000269ca-d64c-4cc9-871a-505ebcd59bda</td>\n",
       "      <td>VS. REBELS</td>\n",
       "      <td>11</td>\n",
       "      <td>16</td>\n",
       "      <td>13</td>\n",
       "      <td>70.0</td>\n",
       "      <td>FB24</td>\n",
       "      <td>0</td>\n",
       "      <td>0.0</td>\n",
       "      <td>1</td>\n",
       "      <td>...</td>\n",
       "      <td>1</td>\n",
       "      <td>1</td>\n",
       "      <td>1</td>\n",
       "      <td>1</td>\n",
       "      <td>1</td>\n",
       "      <td>1</td>\n",
       "      <td>0</td>\n",
       "      <td>1</td>\n",
       "      <td>1</td>\n",
       "      <td>1</td>\n",
       "    </tr>\n",
       "  </tbody>\n",
       "</table>\n",
       "<p>5 rows × 71 columns</p>\n",
       "</div>"
      ],
      "text/plain": [
       "                              GRMCONTACTID     EVENTNAME SECTIONNAME ROWNAME  \\\n",
       "0  1&&000269ca-d64c-4cc9-871a-505ebcd59bda    VS. TIGERS          11      16   \n",
       "1  1&&000269ca-d64c-4cc9-871a-505ebcd59bda    VS. REBELS          11      16   \n",
       "2  1&&000269ca-d64c-4cc9-871a-505ebcd59bda  VS. TERRIERS          11      16   \n",
       "3  1&&000269ca-d64c-4cc9-871a-505ebcd59bda  VS. MONARCHS          11      16   \n",
       "4  1&&000269ca-d64c-4cc9-871a-505ebcd59bda    VS. REBELS          11      16   \n",
       "\n",
       "   SEAT  REVENUETOTAL PLANCODE  ISMOBILE  RESOLDTOTALAMOUNT  ISATTENDED  ...  \\\n",
       "0    14          60.0     FB24         1                0.0           1  ...   \n",
       "1    15          70.0     FB24         0                0.0           1  ...   \n",
       "2    16          30.0     FB24         0                0.0           1  ...   \n",
       "3    14          35.0     FB24         0                0.0           1  ...   \n",
       "4    13          70.0     FB24         0                0.0           1  ...   \n",
       "\n",
       "   fold  FAN_PHONE_MARKETABLE1  HAS_OPENED_EMAIL1  HAS_DONATED1  \\\n",
       "0     1                      1                  1             1   \n",
       "1     1                      1                  1             1   \n",
       "2     1                      1                  1             1   \n",
       "3     1                      1                  1             1   \n",
       "4     1                      1                  1             1   \n",
       "\n",
       "   HAS_MADE_PURCHASE1 DONATION_CURRENT_DONOR1 ISRESOLD1  \\\n",
       "0                   1                       1         0   \n",
       "1                   1                       1         0   \n",
       "2                   1                       1         0   \n",
       "3                   1                       1         0   \n",
       "4                   1                       1         0   \n",
       "\n",
       "   TICKETING_CURRENTYEARSTM1  TICKETING_PREVSEASONSTM1  FAN_POSTAL_MARKETABLE1  \n",
       "0                          1                         1                       1  \n",
       "1                          1                         1                       1  \n",
       "2                          1                         1                       1  \n",
       "3                          1                         1                       1  \n",
       "4                          1                         1                       1  \n",
       "\n",
       "[5 rows x 71 columns]"
      ]
     },
     "execution_count": 6,
     "metadata": {},
     "output_type": "execute_result"
    }
   ],
   "source": [
    "folds_df.head()"
   ]
  },
  {
   "cell_type": "code",
   "execution_count": 7,
   "id": "3f442728-2038-4cce-b4d4-12a01f3143f3",
   "metadata": {},
   "outputs": [],
   "source": [
    "fold1_train = folds_df[folds_df['fold'] != 1]\n",
    "fold1_test = folds_df[folds_df['fold'] == 1]"
   ]
  },
  {
   "cell_type": "code",
   "execution_count": 8,
   "id": "a4eacdb5-09bb-44ab-a5ae-381f30b290ac",
   "metadata": {},
   "outputs": [],
   "source": [
    "fold2_train = folds_df[folds_df['fold'] != 2]\n",
    "fold2_test = folds_df[folds_df['fold'] == 2]"
   ]
  },
  {
   "cell_type": "code",
   "execution_count": 9,
   "id": "1326e501-e413-4a5f-a0a0-04edee9a53b7",
   "metadata": {},
   "outputs": [],
   "source": [
    "fold3_train = folds_df[folds_df['fold'] != 3]\n",
    "fold3_test = folds_df[folds_df['fold'] == 3]"
   ]
  },
  {
   "cell_type": "code",
   "execution_count": 10,
   "id": "6d903076-ea19-4531-a851-8a685293534d",
   "metadata": {},
   "outputs": [],
   "source": [
    "fold4_train = folds_df[folds_df['fold'] != 4]\n",
    "fold4_test = folds_df[folds_df['fold'] == 4]"
   ]
  },
  {
   "cell_type": "code",
   "execution_count": 11,
   "id": "37843458-61de-4e55-82fd-5483c2addca7",
   "metadata": {},
   "outputs": [],
   "source": [
    "fold5_train = folds_df[folds_df['fold'] != 5]\n",
    "fold5_test = folds_df[folds_df['fold'] == 5]"
   ]
  },
  {
   "cell_type": "code",
   "execution_count": 12,
   "id": "7d5d1a40-c2c8-482e-9a4b-4047df639d69",
   "metadata": {},
   "outputs": [],
   "source": [
    "import numpy as np\n",
    "\n",
    "def predict_probability4(row):\n",
    "    score = 2.8049  # Intercept\n",
    "\n",
    "    # Individual features\n",
    "    score += -0.1000 * row.get('DONATION_CURRENT_DONATION_AMOUNT', 0)\n",
    "    score += 0.2638 * row.get('FAN_PHONE_MARKETABLE1', 0)\n",
    "    score += -0.6254 * row.get('TICKETING_CURRENTYEARSTM1', 0)\n",
    "    score += 0.0234 * row.get('TICKETING_PREVSEASONSTM1', 0)\n",
    "    score += 0.1390 * row.get('DONATION_CURRENT_DONOR1', 0)\n",
    "    score += 0.0046 * row.get('HAS_OPENED_EMAIL1', 0)\n",
    "    score += 0.1264 * row.get('HAS_DONATED1', 0)\n",
    "    score += 0.0291 * row.get('HAS_MADE_PURCHASE1', 0)\n",
    "\n",
    "    # Seating color coefficients\n",
    "    seat_colors = {\n",
    "        'Blue': 0.1862,\n",
    "        'Garnet': 0.3217,\n",
    "        'Gray': -0.0434,\n",
    "        'Green': 0.0419,\n",
    "        'Hot Pink': 0.0893,\n",
    "        'Light Blue': 0.6803,\n",
    "        'Lime Green': 0.6781,\n",
    "        'Other': 0.6848,\n",
    "        'Pink': 0.4158,\n",
    "        'Purple': 0.8331,\n",
    "        'Red': 0.1166,\n",
    "        'Tan': 0.8900,\n",
    "        'Teal': 0.1530,\n",
    "        'White': 1.2322,\n",
    "        'Yellow': 0.1034\n",
    "    }\n",
    "    for color, coef in seat_colors.items():\n",
    "        score += coef * row.get(f'SEATING{color}', 0)\n",
    "\n",
    "    # Initial lead source\n",
    "    lead_sources = {\n",
    "        'GamecocksMigration': 0.0709,\n",
    "        'Salesforce': -0.0693,\n",
    "        'SFMC': -0.1057,\n",
    "        'Ticketmaster': 0.2788\n",
    "    }\n",
    "    for source, coef in lead_sources.items():\n",
    "        score += coef * row.get(f'FAN_INITIAL_LEAD_SOURCE{source}', 0)\n",
    "\n",
    "    # Last lead source\n",
    "    last_sources = {\n",
    "        'GamecocksMigration': -0.1608,\n",
    "        'Salesforce': 0.1952,\n",
    "        'SFMC': -0.0987,\n",
    "        'Ticketmaster': -0.1681\n",
    "    }\n",
    "    for source, coef in last_sources.items():\n",
    "        score += coef * row.get(f'FAN_LAST_LEAD_SOURCE{source}', 0)\n",
    "\n",
    "    score += 0.0712 * row.get('FAN_POSTAL_MARKETABLE1', 0)\n",
    "    score += 0.6037 * row.get('ISRESOLD1', 0)\n",
    "\n",
    "    # Event names\n",
    "    events = {\n",
    "        'VS. MONARCHS': -0.8533,\n",
    "        'VS. REBELS': -0.1547,\n",
    "        'VS. TERRIERS': -0.8410,\n",
    "        'VS. TIGERS': -0.1589,\n",
    "        'VS. ZIPS': -0.7751\n",
    "    }\n",
    "    for event, coef in events.items():\n",
    "        score += coef * row.get(f'EVENTNAME{event}', 0)\n",
    "\n",
    "    # Plan codes\n",
    "    plans = {\n",
    "        'FB24-1': -0.5117,\n",
    "        'GCFREE25': -1.1965,\n",
    "        'Unknown/Not Specified': -0.3360\n",
    "    }\n",
    "    for plan, coef in plans.items():\n",
    "        score += coef * row.get(f'PLANCODE{plan}', 0)\n",
    "\n",
    "    # Additional features\n",
    "    score += -0.3516 * row.get('TICKETING_TICKETS_SCANNED', 0)\n",
    "    score += 0.1787 * row.get('TICKETING_TICKET_TOTAL_SPEND', 0)\n",
    "    score += -0.0983 * row.get('TICKETING_STM_TENURE', 0)\n",
    "    score += 0.2147 * row.get('TICKETING_GAMES_SOLD_SECONDARY', 0)\n",
    "    score += 0.6368 * row.get('TICKETING_GAMES_SCANNED', 0)\n",
    "    score += -0.0088 * row.get('TICKETING_GAMES_PURCHASED_SECONDARY', 0)\n",
    "    score += 1.3192 * row.get('TICKETING_ATTENDANCE_SEASON_PCT', 0)\n",
    "    score += -0.0405 * row.get('TICKETING_ATTENDANCE_LIFETIME_PCT', 0)\n",
    "    score += 0.0803 * row.get('REVENUETOTAL', 0)\n",
    "    score += 0.0042 * row.get('RESOLDTOTALAMOUNT', 0)\n",
    "    score += -0.0162 * row.get('MERCH_TOTALSPENT_LIFETIME', 0)\n",
    "    score += 0.0172 * row.get('MERCH_TOTALSPENT_90DAYS', 0)\n",
    "    score += -0.0806 * row.get('MERCH_TOTALSPENT_365DAYS', 0)\n",
    "    score += -0.0153 * row.get('MERCH_TOTALSPENT_30DAYS', 0)\n",
    "\n",
    "    score += 0.0127 * row.get('FAN_UNIQUE_SOURCESYSTEM_COUNT', 0)\n",
    "    score += -0.1642 * row.get('ENGAGEMENT', 0)\n",
    "    score += 0.0658 * row.get('EMAIL_EMAIL_OPEN_PCT', 0)\n",
    "    score += 0.0375 * row.get('EMAIL_EMAIL_OPEN_COUNT', 0)\n",
    "    score += 0.2957 * row.get('EMAIL_EMAIL_CLICK_PCT', 0)\n",
    "    score += -0.0159 * row.get('DONATION_TOTAL_DONATION_AMOUNT', 0)\n",
    "    score += -0.0651 * row.get('DONATION_MAX_DONATION_AMOUNT', 0)\n",
    "\n",
    "    # Final prediction using sigmoid\n",
    "    prob = 1 / (1 + np.exp(-score))\n",
    "    return prob"
   ]
  },
  {
   "cell_type": "code",
   "execution_count": 13,
   "id": "e49155c2-1dce-4be4-b0a2-7c7fd213b8a2",
   "metadata": {},
   "outputs": [
    {
     "name": "stderr",
     "output_type": "stream",
     "text": [
      "C:\\Users\\giova\\AppData\\Local\\Temp\\ipykernel_36348\\1119697603.py:26: FutureWarning: Setting an item of incompatible dtype is deprecated and will raise in a future error of pandas. Value '[-0.40344941 -0.40344941 -0.40344941 ... -0.704595   -0.704595\n",
      " -0.704595  ]' has dtype incompatible with int64, please explicitly cast to a compatible dtype first.\n",
      "  fold4_train.loc[:, col] = (fold4_train[col].astype(float) - mean) / std\n",
      "C:\\Users\\giova\\AppData\\Local\\Temp\\ipykernel_36348\\1119697603.py:26: FutureWarning: Setting an item of incompatible dtype is deprecated and will raise in a future error of pandas. Value '[-0.16734222 -0.16734222 -0.16734222 ... -0.20540317 -0.20540317\n",
      " -0.20540317]' has dtype incompatible with int64, please explicitly cast to a compatible dtype first.\n",
      "  fold4_train.loc[:, col] = (fold4_train[col].astype(float) - mean) / std\n",
      "C:\\Users\\giova\\AppData\\Local\\Temp\\ipykernel_36348\\1119697603.py:26: FutureWarning: Setting an item of incompatible dtype is deprecated and will raise in a future error of pandas. Value '[-0.17063562 -0.17063562 -0.17063562 ... -0.17805093 -0.17805093\n",
      " -0.17805093]' has dtype incompatible with int64, please explicitly cast to a compatible dtype first.\n",
      "  fold4_train.loc[:, col] = (fold4_train[col].astype(float) - mean) / std\n",
      "C:\\Users\\giova\\AppData\\Local\\Temp\\ipykernel_36348\\1119697603.py:26: FutureWarning: Setting an item of incompatible dtype is deprecated and will raise in a future error of pandas. Value '[ 0.42100414  0.42100414  0.42100414 ... -0.21064069 -0.21064069\n",
      " -0.21064069]' has dtype incompatible with int64, please explicitly cast to a compatible dtype first.\n",
      "  fold4_train.loc[:, col] = (fold4_train[col].astype(float) - mean) / std\n",
      "C:\\Users\\giova\\AppData\\Local\\Temp\\ipykernel_36348\\1119697603.py:26: FutureWarning: Setting an item of incompatible dtype is deprecated and will raise in a future error of pandas. Value '[-0.33478415 -0.33478415 -0.33478415 ... -0.33478415 -0.33478415\n",
      " -0.33478415]' has dtype incompatible with int64, please explicitly cast to a compatible dtype first.\n",
      "  fold4_train.loc[:, col] = (fold4_train[col].astype(float) - mean) / std\n",
      "C:\\Users\\giova\\AppData\\Local\\Temp\\ipykernel_36348\\1119697603.py:26: FutureWarning: Setting an item of incompatible dtype is deprecated and will raise in a future error of pandas. Value '[ 1.31022508  1.31022508  1.31022508 ... -0.77976618 -0.77976618\n",
      " -0.77976618]' has dtype incompatible with int64, please explicitly cast to a compatible dtype first.\n",
      "  fold4_train.loc[:, col] = (fold4_train[col].astype(float) - mean) / std\n",
      "C:\\Users\\giova\\AppData\\Local\\Temp\\ipykernel_36348\\1119697603.py:26: FutureWarning: Setting an item of incompatible dtype is deprecated and will raise in a future error of pandas. Value '[-0.01844965 -0.01844965 -0.01844965 ...  0.29163056  0.29163056\n",
      "  0.29163056]' has dtype incompatible with int64, please explicitly cast to a compatible dtype first.\n",
      "  fold4_train.loc[:, col] = (fold4_train[col].astype(float) - mean) / std\n",
      "C:\\Users\\giova\\AppData\\Local\\Temp\\ipykernel_36348\\1119697603.py:26: FutureWarning: Setting an item of incompatible dtype is deprecated and will raise in a future error of pandas. Value '[-0.17097248 -0.17097248 -0.17097248 ...  0.20605677  0.20605677\n",
      "  0.20605677]' has dtype incompatible with int64, please explicitly cast to a compatible dtype first.\n",
      "  fold4_train.loc[:, col] = (fold4_train[col].astype(float) - mean) / std\n",
      "C:\\Users\\giova\\AppData\\Local\\Temp\\ipykernel_36348\\1119697603.py:26: FutureWarning: Setting an item of incompatible dtype is deprecated and will raise in a future error of pandas. Value '[ 0.99367617  0.99367617  0.99367617 ... -0.47900327 -0.47900327\n",
      " -0.47900327]' has dtype incompatible with int64, please explicitly cast to a compatible dtype first.\n",
      "  fold4_train.loc[:, col] = (fold4_train[col].astype(float) - mean) / std\n"
     ]
    }
   ],
   "source": [
    "# Updated normalization info with new means and stds\n",
    "normalize_info = {\n",
    "    'REVENUETOTAL': (52.71961, 27.44648),\n",
    "    'RESOLDTOTALAMOUNT': (7.786976, 37.4491),\n",
    "    'TICKETING_STM_TENURE': (6.679431, 6.641306),\n",
    "    'TICKETING_GAMES_SCANNED': (69.96691, 262.7365),\n",
    "    'TICKETING_TICKETS_SCANNED': (517.2142, 2562.268),\n",
    "    'TICKETING_GAMES_SOLD_SECONDARY': (3.668276, 17.41485),\n",
    "    'TICKETING_GAMES_PURCHASED_SECONDARY': (0.5510142, 1.645879),\n",
    "    'TICKETING_TICKET_TOTAL_SPEND': (299224.4, 712502.8),\n",
    "    'DONATION_MAX_DONATION_AMOUNT': (4299.59, 34031.81),\n",
    "    'DONATION_TOTAL_DONATION_AMOUNT': (71908.37, 347889.8),\n",
    "    'DONATION_CURRENT_DONATION_AMOUNT': (66639.07, 234649.2),\n",
    "    'EMAIL_EMAIL_OPEN_COUNT': (356.6261, 376.5566),\n",
    "    'MERCH_TOTALSPENT_30DAYS': (0.4124913, 8.221181),\n",
    "    'MERCH_TOTALSPENT_90DAYS': (11.65075, 55.22247),\n",
    "    'MERCH_TOTALSPENT_365DAYS': (30.33239, 108.2672),\n",
    "    'MERCH_TOTALSPENT_LIFETIME': (120.4638, 319.7458),\n",
    "    'EMAIL_OPEN_TIME_DIFF': (0.1189992, 6.449944),\n",
    "    'DAYS_SINCE_LAST_DONATION': (177.7876, 525.1582),\n",
    "    'DAYS_SINCE_LAST_PURCHASE': (191.879, 402.6674)\n",
    "}\n",
    "\n",
    "# Normalize each column\n",
    "for col, (mean, std) in normalize_info.items():\n",
    "    fold4_train.loc[:, col] = (fold4_train[col].astype(float) - mean) / std"
   ]
  },
  {
   "cell_type": "code",
   "execution_count": 14,
   "id": "aadec1cb-78b8-4831-87d5-a120cc5bb20f",
   "metadata": {},
   "outputs": [
    {
     "name": "stderr",
     "output_type": "stream",
     "text": [
      "C:\\Users\\giova\\AppData\\Local\\Temp\\ipykernel_36348\\1378434255.py:1: SettingWithCopyWarning: \n",
      "A value is trying to be set on a copy of a slice from a DataFrame.\n",
      "Try using .loc[row_indexer,col_indexer] = value instead\n",
      "\n",
      "See the caveats in the documentation: https://pandas.pydata.org/pandas-docs/stable/user_guide/indexing.html#returning-a-view-versus-a-copy\n",
      "  fold4_train.loc[:, 'predicted_prob'] = fold4_train.apply(predict_probability4, axis=1)\n"
     ]
    }
   ],
   "source": [
    "fold4_train.loc[:, 'predicted_prob'] = fold4_train.apply(predict_probability4, axis=1)"
   ]
  },
  {
   "cell_type": "code",
   "execution_count": 15,
   "id": "973b8580-8b74-4cc8-8f45-5c0401c14105",
   "metadata": {},
   "outputs": [
    {
     "data": {
      "image/png": "[encoded data removed]",
      "text/plain": [
       "<Figure size 800x500 with 1 Axes>"
      ]
     },
     "metadata": {},
     "output_type": "display_data"
    }
   ],
   "source": [
    "import matplotlib.pyplot as plt\n",
    "\n",
    "plt.figure(figsize=(8, 5))\n",
    "plt.hist(fold4_train['predicted_prob'], bins=30, color='skyblue', edgecolor='black')\n",
    "plt.title('Distribution of Predicted Probabilities')\n",
    "plt.xlabel('Predicted Probability')\n",
    "plt.ylabel('Count')\n",
    "plt.grid(True)\n",
    "plt.show()"
   ]
  },
  {
   "cell_type": "code",
   "execution_count": 16,
   "id": "c0c360a6-cfc3-45be-a574-7cee26bc5f51",
   "metadata": {},
   "outputs": [
    {
     "data": {
      "image/png": "[encoded data removed]",
      "text/plain": [
       "<Figure size 800x500 with 1 Axes>"
      ]
     },
     "metadata": {},
     "output_type": "display_data"
    }
   ],
   "source": [
    "from sklearn.metrics import roc_curve, roc_auc_score\n",
    "\n",
    "# True labels and predicted probabilities\n",
    "y_true = fold4_train['ISATTENDED']\n",
    "y_scores = fold4_train['predicted_prob']\n",
    "\n",
    "# Get false positive rate, true positive rate, and thresholds\n",
    "fpr, tpr, thresholds = roc_curve(y_true, y_scores)\n",
    "\n",
    "# Compute AUC\n",
    "auc = roc_auc_score(y_true, y_scores)\n",
    "\n",
    "# Plot ROC Curve\n",
    "plt.figure(figsize=(8, 5))\n",
    "plt.plot(fpr, tpr, label=f'ROC Curve (AUC = {auc:.2f})', color='darkorange')\n",
    "plt.plot([0, 1], [0, 1], linestyle='--', color='gray')  # Diagonal line\n",
    "plt.xlabel('False Positive Rate')\n",
    "plt.ylabel('True Positive Rate')\n",
    "plt.title('Receiver Operating Characteristic (ROC) Curve')\n",
    "plt.legend(loc='lower right')\n",
    "plt.grid(True)\n",
    "plt.show()"
   ]
  },
  {
   "cell_type": "code",
   "execution_count": 17,
   "id": "a181085b-4f89-4ff3-a1fc-ef5c9439c0f8",
   "metadata": {},
   "outputs": [
    {
     "name": "stdout",
     "output_type": "stream",
     "text": [
      "Best threshold based on Youden's J: 0.9491\n"
     ]
    }
   ],
   "source": [
    "# Youden's J statistic\n",
    "j_scores = tpr - fpr\n",
    "best_index = j_scores.argmax()\n",
    "best_threshold = thresholds[best_index]\n",
    "\n",
    "print(f\"Best threshold based on Youden's J: {best_threshold:.4f}\")"
   ]
  },
  {
   "cell_type": "code",
   "execution_count": 18,
   "id": "49aee9fe-213c-47f7-9010-663e1612f9cb",
   "metadata": {},
   "outputs": [
    {
     "name": "stderr",
     "output_type": "stream",
     "text": [
      "C:\\Users\\giova\\AppData\\Local\\Temp\\ipykernel_36348\\2490549422.py:5: SettingWithCopyWarning: \n",
      "A value is trying to be set on a copy of a slice from a DataFrame.\n",
      "Try using .loc[row_indexer,col_indexer] = value instead\n",
      "\n",
      "See the caveats in the documentation: https://pandas.pydata.org/pandas-docs/stable/user_guide/indexing.html#returning-a-view-versus-a-copy\n",
      "  fold4_train['predicted_label'] = (fold4_train['predicted_prob'] >= threshold).astype(int)\n"
     ]
    },
    {
     "data": {
      "text/plain": [
       "array([[   520,  38370],\n",
       "       [  2785, 287596]], dtype=int64)"
      ]
     },
     "execution_count": 18,
     "metadata": {},
     "output_type": "execute_result"
    }
   ],
   "source": [
    "from sklearn.metrics import confusion_matrix, accuracy_score\n",
    "\n",
    "# Step 1: Create binary predictions\n",
    "threshold = 0.8\n",
    "fold4_train['predicted_label'] = (fold4_train['predicted_prob'] >= threshold).astype(int)\n",
    "\n",
    "# Step 2: Get confusion matrix\n",
    "cm = confusion_matrix(fold4_train['ISATTENDED'], fold4_train['predicted_label'])\n",
    "cm"
   ]
  },
  {
   "cell_type": "code",
   "execution_count": 19,
   "id": "cd373035-ff3a-468a-bbf5-ef7dad676ba2",
   "metadata": {},
   "outputs": [
    {
     "data": {
      "text/plain": [
       "0.875011768421756"
      ]
     },
     "execution_count": 19,
     "metadata": {},
     "output_type": "execute_result"
    }
   ],
   "source": [
    "accuracy_score(fold4_train['ISATTENDED'], fold4_train['predicted_label'])"
   ]
  },
  {
   "cell_type": "code",
   "execution_count": 20,
   "id": "45c6cd30-e3a4-4294-8c5b-39a9d974ee8a",
   "metadata": {},
   "outputs": [
    {
     "name": "stderr",
     "output_type": "stream",
     "text": [
      "C:\\Users\\giova\\AppData\\Local\\Temp\\ipykernel_36348\\3421698220.py:105: RuntimeWarning: overflow encountered in exp\n",
      "  prob = 1 / (1 + np.exp(-score))\n",
      "C:\\Users\\giova\\AppData\\Local\\Temp\\ipykernel_36348\\2156328153.py:1: SettingWithCopyWarning: \n",
      "A value is trying to be set on a copy of a slice from a DataFrame.\n",
      "Try using .loc[row_indexer,col_indexer] = value instead\n",
      "\n",
      "See the caveats in the documentation: https://pandas.pydata.org/pandas-docs/stable/user_guide/indexing.html#returning-a-view-versus-a-copy\n",
      "  fold4_test.loc[:, 'predicted_prob'] = fold4_test.apply(predict_probability4, axis=1)\n"
     ]
    }
   ],
   "source": [
    "fold4_test.loc[:, 'predicted_prob'] = fold4_test.apply(predict_probability4, axis=1)"
   ]
  },
  {
   "cell_type": "code",
   "execution_count": 21,
   "id": "2ce15afd-a557-4431-a297-d3e4716b18f9",
   "metadata": {},
   "outputs": [
    {
     "data": {
      "image/png": "[encoded data removed]",
      "text/plain": [
       "<Figure size 800x500 with 1 Axes>"
      ]
     },
     "metadata": {},
     "output_type": "display_data"
    }
   ],
   "source": [
    "import matplotlib.pyplot as plt\n",
    "\n",
    "plt.figure(figsize=(8, 5))\n",
    "plt.hist(fold4_test['predicted_prob'], bins=30, color='skyblue', edgecolor='black')\n",
    "plt.title('Distribution of Predicted Probabilities')\n",
    "plt.xlabel('Predicted Probability')\n",
    "plt.ylabel('Count')\n",
    "plt.grid(True)\n",
    "plt.show()"
   ]
  },
  {
   "cell_type": "code",
   "execution_count": 22,
   "id": "30d341b1-cfcf-433b-a16f-03d56daae6f5",
   "metadata": {},
   "outputs": [
    {
     "name": "stderr",
     "output_type": "stream",
     "text": [
      "C:\\Users\\giova\\AppData\\Local\\Temp\\ipykernel_36348\\3018568137.py:1: SettingWithCopyWarning: \n",
      "A value is trying to be set on a copy of a slice from a DataFrame.\n",
      "Try using .loc[row_indexer,col_indexer] = value instead\n",
      "\n",
      "See the caveats in the documentation: https://pandas.pydata.org/pandas-docs/stable/user_guide/indexing.html#returning-a-view-versus-a-copy\n",
      "  fold4_test['predicted_label'] = (fold4_test['predicted_prob'] >= threshold).astype(int)\n"
     ]
    },
    {
     "data": {
      "text/plain": [
       "array([[ 6564,  6503],\n",
       "       [18519, 47478]], dtype=int64)"
      ]
     },
     "execution_count": 22,
     "metadata": {},
     "output_type": "execute_result"
    }
   ],
   "source": [
    "fold4_test['predicted_label'] = (fold4_test['predicted_prob'] >= threshold).astype(int)\n",
    "\n",
    "# Step 2: Get confusion matrix\n",
    "cm = confusion_matrix(fold4_test['ISATTENDED'], fold4_test['predicted_label'])\n",
    "cm"
   ]
  },
  {
   "cell_type": "code",
   "execution_count": 23,
   "id": "1d649032-9f51-45ee-8491-0a68f1ad3442",
   "metadata": {
    "scrolled": true
   },
   "outputs": [
    {
     "data": {
      "text/plain": [
       "0.6835222098553071"
      ]
     },
     "execution_count": 23,
     "metadata": {},
     "output_type": "execute_result"
    }
   ],
   "source": [
    "accuracy_score(fold4_test['ISATTENDED'], fold4_test['predicted_label'])"
   ]
  }
 ],
 "metadata": {
  "kernelspec": {
   "display_name": "Python 3 (ipykernel)",
   "language": "python",
   "name": "python3"
  },
  "language_info": {
   "codemirror_mode": {
    "name": "ipython",
    "version": 3
   },
   "file_extension": ".py",
   "mimetype": "text/x-python",
   "name": "python",
   "nbconvert_exporter": "python",
   "pygments_lexer": "ipython3",
   "version": "3.12.3"
  }
 },
 "nbformat": 4,
 "nbformat_minor": 5
}

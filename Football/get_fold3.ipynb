{
 "cells": [
  {
   "cell_type": "markdown",
   "id": "032eec77-3fe4-4ff7-ba3c-680769b5b1a1",
   "metadata": {},
   "source": [
    "FOLD DID NOT CONVERGE"
   ]
  },
  {
   "cell_type": "code",
   "execution_count": 2,
   "id": "2034034b-50e0-4578-a912-3c97f13e04a1",
   "metadata": {},
   "outputs": [],
   "source": [
    "# IMPORT PACKAGES\n",
    "import pandas as pd\n",
    "import numpy as np\n",
    "\n",
    "from sklearn.model_selection import KFold\n",
    "import pickle"
   ]
  },
  {
   "cell_type": "code",
   "execution_count": 3,
   "id": "11cd08e7-fc63-497f-86ee-76efd5cd0543",
   "metadata": {},
   "outputs": [],
   "source": [
    "# FILE LOCATION OF DATA\n",
    "project_folder = r'C:\\Users\\giova\\Documents\\School\\Classes\\Spring 2025\\Capstone Project\\Football2024'\n",
    "data_folder_loc = r'C:\\Users\\giova\\Documents\\School\\Classes\\Spring 2025\\Capstone Project\\Data'\n",
    "\n",
    "folds_file = r'\\folds_data.csv'"
   ]
  },
  {
   "cell_type": "code",
   "execution_count": 4,
   "id": "d5f2b12b-8761-4d3b-bd8f-0bbe716349dc",
   "metadata": {},
   "outputs": [],
   "source": [
    "# READ DATA\n",
    "folds_df = pd.read_csv(project_folder + folds_file)"
   ]
  },
  {
   "cell_type": "code",
   "execution_count": 5,
   "id": "2fbcede9-c0f2-43da-b3c2-b4df0bda01e5",
   "metadata": {},
   "outputs": [],
   "source": [
    "folds_df['FAN_PHONE_MARKETABLE1'] = (folds_df['FAN_PHONE_MARKETABLE'] == 1).astype(int)\n",
    "folds_df['HAS_OPENED_EMAIL1'] = (folds_df['HAS_OPENED_EMAIL'] == 1).astype(int)\n",
    "folds_df['HAS_DONATED1'] = (folds_df['HAS_DONATED'] == 1).astype(int)\n",
    "folds_df['HAS_MADE_PURCHASE1'] = (folds_df['HAS_MADE_PURCHASE'] == 1).astype(int)\n",
    "folds_df['DONATION_CURRENT_DONOR1'] = (folds_df['DONATION_CURRENT_DONOR'] == 1).astype(int)\n",
    "folds_df['ISRESOLD1'] = (folds_df['ISRESOLD'] == 1).astype(int)\n",
    "folds_df['TICKETING_CURRENTYEARSTM1'] = (folds_df['TICKETING_CURRENTYEARSTM'] == 1).astype(int)\n",
    "folds_df['TICKETING_PREVSEASONSTM1'] = (folds_df['TICKETING_PREVSEASONSTM'] == 1).astype(int)\n",
    "folds_df['FAN_POSTAL_MARKETABLE1'] = (folds_df['FAN_POSTAL_MARKETABLE'] == 1).astype(int)\n",
    "folds_df['ISRESOLD1'] = (folds_df['ISRESOLD'] == 1).astype(int)"
   ]
  },
  {
   "cell_type": "code",
   "execution_count": 6,
   "id": "fc80973d-2718-40fd-b5c5-c57bec3afc6e",
   "metadata": {},
   "outputs": [
    {
     "data": {
      "text/html": [
       "<div>\n",
       "<style scoped>\n",
       "    .dataframe tbody tr th:only-of-type {\n",
       "        vertical-align: middle;\n",
       "    }\n",
       "\n",
       "    .dataframe tbody tr th {\n",
       "        vertical-align: top;\n",
       "    }\n",
       "\n",
       "    .dataframe thead th {\n",
       "        text-align: right;\n",
       "    }\n",
       "</style>\n",
       "<table border=\"1\" class=\"dataframe\">\n",
       "  <thead>\n",
       "    <tr style=\"text-align: right;\">\n",
       "      <th></th>\n",
       "      <th>GRMCONTACTID</th>\n",
       "      <th>EVENTNAME</th>\n",
       "      <th>SECTIONNAME</th>\n",
       "      <th>ROWNAME</th>\n",
       "      <th>SEAT</th>\n",
       "      <th>REVENUETOTAL</th>\n",
       "      <th>PLANCODE</th>\n",
       "      <th>ISMOBILE</th>\n",
       "      <th>RESOLDTOTALAMOUNT</th>\n",
       "      <th>ISATTENDED</th>\n",
       "      <th>...</th>\n",
       "      <th>fold</th>\n",
       "      <th>FAN_PHONE_MARKETABLE1</th>\n",
       "      <th>HAS_OPENED_EMAIL1</th>\n",
       "      <th>HAS_DONATED1</th>\n",
       "      <th>HAS_MADE_PURCHASE1</th>\n",
       "      <th>DONATION_CURRENT_DONOR1</th>\n",
       "      <th>ISRESOLD1</th>\n",
       "      <th>TICKETING_CURRENTYEARSTM1</th>\n",
       "      <th>TICKETING_PREVSEASONSTM1</th>\n",
       "      <th>FAN_POSTAL_MARKETABLE1</th>\n",
       "    </tr>\n",
       "  </thead>\n",
       "  <tbody>\n",
       "    <tr>\n",
       "      <th>0</th>\n",
       "      <td>1&amp;&amp;000269ca-d64c-4cc9-871a-505ebcd59bda</td>\n",
       "      <td>VS. TIGERS</td>\n",
       "      <td>11</td>\n",
       "      <td>16</td>\n",
       "      <td>14</td>\n",
       "      <td>60.0</td>\n",
       "      <td>FB24</td>\n",
       "      <td>1</td>\n",
       "      <td>0.0</td>\n",
       "      <td>1</td>\n",
       "      <td>...</td>\n",
       "      <td>1</td>\n",
       "      <td>1</td>\n",
       "      <td>1</td>\n",
       "      <td>1</td>\n",
       "      <td>1</td>\n",
       "      <td>1</td>\n",
       "      <td>0</td>\n",
       "      <td>1</td>\n",
       "      <td>1</td>\n",
       "      <td>1</td>\n",
       "    </tr>\n",
       "    <tr>\n",
       "      <th>1</th>\n",
       "      <td>1&amp;&amp;000269ca-d64c-4cc9-871a-505ebcd59bda</td>\n",
       "      <td>VS. REBELS</td>\n",
       "      <td>11</td>\n",
       "      <td>16</td>\n",
       "      <td>15</td>\n",
       "      <td>70.0</td>\n",
       "      <td>FB24</td>\n",
       "      <td>0</td>\n",
       "      <td>0.0</td>\n",
       "      <td>1</td>\n",
       "      <td>...</td>\n",
       "      <td>1</td>\n",
       "      <td>1</td>\n",
       "      <td>1</td>\n",
       "      <td>1</td>\n",
       "      <td>1</td>\n",
       "      <td>1</td>\n",
       "      <td>0</td>\n",
       "      <td>1</td>\n",
       "      <td>1</td>\n",
       "      <td>1</td>\n",
       "    </tr>\n",
       "    <tr>\n",
       "      <th>2</th>\n",
       "      <td>1&amp;&amp;000269ca-d64c-4cc9-871a-505ebcd59bda</td>\n",
       "      <td>VS. TERRIERS</td>\n",
       "      <td>11</td>\n",
       "      <td>16</td>\n",
       "      <td>16</td>\n",
       "      <td>30.0</td>\n",
       "      <td>FB24</td>\n",
       "      <td>0</td>\n",
       "      <td>0.0</td>\n",
       "      <td>1</td>\n",
       "      <td>...</td>\n",
       "      <td>1</td>\n",
       "      <td>1</td>\n",
       "      <td>1</td>\n",
       "      <td>1</td>\n",
       "      <td>1</td>\n",
       "      <td>1</td>\n",
       "      <td>0</td>\n",
       "      <td>1</td>\n",
       "      <td>1</td>\n",
       "      <td>1</td>\n",
       "    </tr>\n",
       "    <tr>\n",
       "      <th>3</th>\n",
       "      <td>1&amp;&amp;000269ca-d64c-4cc9-871a-505ebcd59bda</td>\n",
       "      <td>VS. MONARCHS</td>\n",
       "      <td>11</td>\n",
       "      <td>16</td>\n",
       "      <td>14</td>\n",
       "      <td>35.0</td>\n",
       "      <td>FB24</td>\n",
       "      <td>0</td>\n",
       "      <td>0.0</td>\n",
       "      <td>1</td>\n",
       "      <td>...</td>\n",
       "      <td>1</td>\n",
       "      <td>1</td>\n",
       "      <td>1</td>\n",
       "      <td>1</td>\n",
       "      <td>1</td>\n",
       "      <td>1</td>\n",
       "      <td>0</td>\n",
       "      <td>1</td>\n",
       "      <td>1</td>\n",
       "      <td>1</td>\n",
       "    </tr>\n",
       "    <tr>\n",
       "      <th>4</th>\n",
       "      <td>1&amp;&amp;000269ca-d64c-4cc9-871a-505ebcd59bda</td>\n",
       "      <td>VS. REBELS</td>\n",
       "      <td>11</td>\n",
       "      <td>16</td>\n",
       "      <td>13</td>\n",
       "      <td>70.0</td>\n",
       "      <td>FB24</td>\n",
       "      <td>0</td>\n",
       "      <td>0.0</td>\n",
       "      <td>1</td>\n",
       "      <td>...</td>\n",
       "      <td>1</td>\n",
       "      <td>1</td>\n",
       "      <td>1</td>\n",
       "      <td>1</td>\n",
       "      <td>1</td>\n",
       "      <td>1</td>\n",
       "      <td>0</td>\n",
       "      <td>1</td>\n",
       "      <td>1</td>\n",
       "      <td>1</td>\n",
       "    </tr>\n",
       "  </tbody>\n",
       "</table>\n",
       "<p>5 rows × 71 columns</p>\n",
       "</div>"
      ],
      "text/plain": [
       "                              GRMCONTACTID     EVENTNAME SECTIONNAME ROWNAME  \\\n",
       "0  1&&000269ca-d64c-4cc9-871a-505ebcd59bda    VS. TIGERS          11      16   \n",
       "1  1&&000269ca-d64c-4cc9-871a-505ebcd59bda    VS. REBELS          11      16   \n",
       "2  1&&000269ca-d64c-4cc9-871a-505ebcd59bda  VS. TERRIERS          11      16   \n",
       "3  1&&000269ca-d64c-4cc9-871a-505ebcd59bda  VS. MONARCHS          11      16   \n",
       "4  1&&000269ca-d64c-4cc9-871a-505ebcd59bda    VS. REBELS          11      16   \n",
       "\n",
       "   SEAT  REVENUETOTAL PLANCODE  ISMOBILE  RESOLDTOTALAMOUNT  ISATTENDED  ...  \\\n",
       "0    14          60.0     FB24         1                0.0           1  ...   \n",
       "1    15          70.0     FB24         0                0.0           1  ...   \n",
       "2    16          30.0     FB24         0                0.0           1  ...   \n",
       "3    14          35.0     FB24         0                0.0           1  ...   \n",
       "4    13          70.0     FB24         0                0.0           1  ...   \n",
       "\n",
       "   fold  FAN_PHONE_MARKETABLE1  HAS_OPENED_EMAIL1  HAS_DONATED1  \\\n",
       "0     1                      1                  1             1   \n",
       "1     1                      1                  1             1   \n",
       "2     1                      1                  1             1   \n",
       "3     1                      1                  1             1   \n",
       "4     1                      1                  1             1   \n",
       "\n",
       "   HAS_MADE_PURCHASE1 DONATION_CURRENT_DONOR1 ISRESOLD1  \\\n",
       "0                   1                       1         0   \n",
       "1                   1                       1         0   \n",
       "2                   1                       1         0   \n",
       "3                   1                       1         0   \n",
       "4                   1                       1         0   \n",
       "\n",
       "   TICKETING_CURRENTYEARSTM1  TICKETING_PREVSEASONSTM1  FAN_POSTAL_MARKETABLE1  \n",
       "0                          1                         1                       1  \n",
       "1                          1                         1                       1  \n",
       "2                          1                         1                       1  \n",
       "3                          1                         1                       1  \n",
       "4                          1                         1                       1  \n",
       "\n",
       "[5 rows x 71 columns]"
      ]
     },
     "execution_count": 6,
     "metadata": {},
     "output_type": "execute_result"
    }
   ],
   "source": [
    "folds_df.head()"
   ]
  },
  {
   "cell_type": "code",
   "execution_count": 7,
   "id": "3f442728-2038-4cce-b4d4-12a01f3143f3",
   "metadata": {},
   "outputs": [],
   "source": [
    "fold1_train = folds_df[folds_df['fold'] != 1]\n",
    "fold1_test = folds_df[folds_df['fold'] == 1]"
   ]
  },
  {
   "cell_type": "code",
   "execution_count": 8,
   "id": "a4eacdb5-09bb-44ab-a5ae-381f30b290ac",
   "metadata": {},
   "outputs": [],
   "source": [
    "fold2_train = folds_df[folds_df['fold'] != 2]\n",
    "fold2_test = folds_df[folds_df['fold'] == 2]"
   ]
  },
  {
   "cell_type": "code",
   "execution_count": 9,
   "id": "1326e501-e413-4a5f-a0a0-04edee9a53b7",
   "metadata": {},
   "outputs": [],
   "source": [
    "fold3_train = folds_df[folds_df['fold'] != 3]\n",
    "fold3_test = folds_df[folds_df['fold'] == 3]"
   ]
  },
  {
   "cell_type": "code",
   "execution_count": 10,
   "id": "6d903076-ea19-4531-a851-8a685293534d",
   "metadata": {},
   "outputs": [],
   "source": [
    "fold4_train = folds_df[folds_df['fold'] != 4]\n",
    "fold4_test = folds_df[folds_df['fold'] == 4]"
   ]
  },
  {
   "cell_type": "code",
   "execution_count": 11,
   "id": "37843458-61de-4e55-82fd-5483c2addca7",
   "metadata": {},
   "outputs": [],
   "source": [
    "fold5_train = folds_df[folds_df['fold'] != 5]\n",
    "fold5_test = folds_df[folds_df['fold'] == 5]"
   ]
  },
  {
   "cell_type": "code",
   "execution_count": 12,
   "id": "7d5d1a40-c2c8-482e-9a4b-4047df639d69",
   "metadata": {},
   "outputs": [],
   "source": [
    "import numpy as np\n",
    "\n",
    "def predict_probability3(row):\n",
    "    score = 2.4962551  # Intercept\n",
    "\n",
    "    # Individual features\n",
    "    score += -0.1032278 * row.get('DONATION_CURRENT_DONATION_AMOUNT', 0)\n",
    "    score += 0.3785299 * row.get('FAN_PHONE_MARKETABLE1', 0)\n",
    "    score += -0.6537580 * row.get('TICKETING_CURRENTYEARSTM1', 0)\n",
    "    score += 0.0910863 * row.get('TICKETING_PREVSEASONSTM1', 0)\n",
    "    score += 0.1731340 * row.get('DONATION_CURRENT_DONOR1', 0)\n",
    "    score += 0.0735155 * row.get('HAS_OPENED_EMAIL1', 0)\n",
    "    score += 0.1250932 * row.get('HAS_DONATED1', 0)\n",
    "    score += 0.1141194 * row.get('HAS_MADE_PURCHASE1', 0)\n",
    "\n",
    "    # Seating colors\n",
    "    seating_coefs = {\n",
    "        'Blue': 0.0937310,\n",
    "        'Garnet': 0.1939450,\n",
    "        'Gray': -0.0765273,\n",
    "        'Green': -0.0924558,\n",
    "        'Hot Pink': 0.0054274,\n",
    "        'Light Blue': 0.8475100,\n",
    "        'Lime Green': 0.7161841,\n",
    "        'Other': 0.5571196,\n",
    "        'Pink': 0.3742032,\n",
    "        'Purple': 0.6768957,\n",
    "        'Red': 0.0288406,\n",
    "        'Tan': 0.8562888,\n",
    "        'Teal': 0.1225957,\n",
    "        'White': 1.1714152,\n",
    "        'Yellow': -0.0149152,\n",
    "    }\n",
    "    for color, coef in seating_coefs.items():\n",
    "        score += coef * row.get(f'SEATING{color}', 0)\n",
    "\n",
    "    # Lead source (initial)\n",
    "    score += 0.2590128 * row.get('FAN_INITIAL_LEAD_SOURCEGamecocksMigration', 0)\n",
    "    score += -0.0287657 * row.get('FAN_INITIAL_LEAD_SOURCESalesforce', 0)\n",
    "    score += 0.0833752 * row.get('FAN_INITIAL_LEAD_SOURCESFMC', 0)\n",
    "    score += 0.3128784 * row.get('FAN_INITIAL_LEAD_SOURCETicketmaster', 0)\n",
    "\n",
    "    # Lead source (last)\n",
    "    score += -0.1083797 * row.get('FAN_LAST_LEAD_SOURCEGamecocksMigration', 0)\n",
    "    score += 0.2069286 * row.get('FAN_LAST_LEAD_SOURCESalesforce', 0)\n",
    "    score += -0.0724268 * row.get('FAN_LAST_LEAD_SOURCESFMC', 0)\n",
    "    score += -0.1173351 * row.get('FAN_LAST_LEAD_SOURCETicketmaster', 0)\n",
    "\n",
    "    # Other categorical / binary variables\n",
    "    score += 0.0920300 * row.get('FAN_POSTAL_MARKETABLE1', 0)\n",
    "    score += 0.5375925 * row.get('ISRESOLD1', 0)\n",
    "\n",
    "    # Event names\n",
    "    score += -0.7466835 * row.get('EVENTNAMEVS. MONARCHS', 0)\n",
    "    score += -0.1161859 * row.get('EVENTNAMEVS. REBELS', 0)\n",
    "    score += -0.7367314 * row.get('EVENTNAMEVS. TERRIERS', 0)\n",
    "    score += -0.1076230 * row.get('EVENTNAMEVS. TIGERS', 0)\n",
    "    score += -0.6905215 * row.get('EVENTNAMEVS. ZIPS', 0)\n",
    "\n",
    "    # Plan codes\n",
    "    score += -0.1869024 * row.get('PLANCODEFB24-1', 0)\n",
    "    score += -1.4511025 * row.get('PLANCODEGCFREE25', 0)\n",
    "    score += -0.2464986 * row.get('PLANCODEUnknown/Not Specified', 0)\n",
    "\n",
    "    # Continuous ticketing and revenue features\n",
    "    score += -0.7024274 * row.get('TICKETING_TICKETS_SCANNED', 0)\n",
    "    score += 0.2779163 * row.get('TICKETING_TICKET_TOTAL_SPEND', 0)\n",
    "    score += -0.0715495 * row.get('TICKETING_STM_TENURE', 0)\n",
    "    score += 0.2056004 * row.get('TICKETING_GAMES_SOLD_SECONDARY', 0)\n",
    "    score += 0.7085168 * row.get('TICKETING_GAMES_SCANNED', 0)\n",
    "    score += 0.0134118 * row.get('TICKETING_GAMES_PURCHASED_SECONDARY', 0)\n",
    "    score += 1.2473760 * row.get('TICKETING_ATTENDANCE_SEASON_PCT', 0)\n",
    "    score += -0.0408026 * row.get('TICKETING_ATTENDANCE_LIFETIME_PCT', 0)\n",
    "    score += 0.0945495 * row.get('REVENUETOTAL', 0)\n",
    "    score += 0.0167382 * row.get('RESOLDTOTALAMOUNT', 0)\n",
    "\n",
    "    # Merchandise features\n",
    "    score += -0.0383855 * row.get('MERCH_TOTALSPENT_LIFETIME', 0)\n",
    "    score += 0.0137206 * row.get('MERCH_TOTALSPENT_90DAYS', 0)\n",
    "    score += -0.0592727 * row.get('MERCH_TOTALSPENT_365DAYS', 0)\n",
    "    score += 0.0263672 * row.get('MERCH_TOTALSPENT_30DAYS', 0)\n",
    "\n",
    "    score += 0.0078800 * row.get('FAN_UNIQUE_SOURCESYSTEM_COUNT', 0)\n",
    "    score += -0.1585042 * row.get('ENGAGEMENT', 0)\n",
    "    score += 0.0631214 * row.get('EMAIL_EMAIL_OPEN_PCT', 0)\n",
    "    score += -0.0002666 * row.get('EMAIL_EMAIL_OPEN_COUNT', 0)\n",
    "    score += 0.3674887 * row.get('EMAIL_EMAIL_CLICK_PCT', 0)\n",
    "    score += -0.0134597 * row.get('DONATION_TOTAL_DONATION_AMOUNT', 0)\n",
    "    score += -0.0305291 * row.get('DONATION_MAX_DONATION_AMOUNT', 0)\n",
    "    \n",
    "    # Final prediction using sigmoid\n",
    "    prob = 1 / (1 + np.exp(-score))\n",
    "    return prob"
   ]
  },
  {
   "cell_type": "code",
   "execution_count": 13,
   "id": "e49155c2-1dce-4be4-b0a2-7c7fd213b8a2",
   "metadata": {},
   "outputs": [
    {
     "name": "stderr",
     "output_type": "stream",
     "text": [
      "C:\\Users\\giova\\AppData\\Local\\Temp\\ipykernel_19836\\752452514.py:26: FutureWarning: Setting an item of incompatible dtype is deprecated and will raise in a future error of pandas. Value '[-0.39195767 -0.39195767 -0.39195767 ...  0.20436205  0.20436205\n",
      "  0.20436205]' has dtype incompatible with int64, please explicitly cast to a compatible dtype first.\n",
      "  fold3_train.loc[:, col] = ((fold3_train[col].astype(float) - mean) / std)\n",
      "C:\\Users\\giova\\AppData\\Local\\Temp\\ipykernel_19836\\752452514.py:26: FutureWarning: Setting an item of incompatible dtype is deprecated and will raise in a future error of pandas. Value '[-0.18007156 -0.18007156 -0.18007156 ... -0.13414396 -0.13414396\n",
      " -0.13414396]' has dtype incompatible with int64, please explicitly cast to a compatible dtype first.\n",
      "  fold3_train.loc[:, col] = ((fold3_train[col].astype(float) - mean) / std)\n",
      "C:\\Users\\giova\\AppData\\Local\\Temp\\ipykernel_19836\\752452514.py:26: FutureWarning: Setting an item of incompatible dtype is deprecated and will raise in a future error of pandas. Value '[-0.20127878 -0.20127878 -0.20127878 ... -0.17525974 -0.17525974\n",
      " -0.17525974]' has dtype incompatible with int64, please explicitly cast to a compatible dtype first.\n",
      "  fold3_train.loc[:, col] = ((fold3_train[col].astype(float) - mean) / std)\n",
      "C:\\Users\\giova\\AppData\\Local\\Temp\\ipykernel_19836\\752452514.py:26: FutureWarning: Setting an item of incompatible dtype is deprecated and will raise in a future error of pandas. Value '[ 0.38984509  0.38984509  0.38984509 ... -0.20885367 -0.20885367\n",
      " -0.20885367]' has dtype incompatible with int64, please explicitly cast to a compatible dtype first.\n",
      "  fold3_train.loc[:, col] = ((fold3_train[col].astype(float) - mean) / std)\n",
      "C:\\Users\\giova\\AppData\\Local\\Temp\\ipykernel_19836\\752452514.py:26: FutureWarning: Setting an item of incompatible dtype is deprecated and will raise in a future error of pandas. Value '[-0.34117082 -0.34117082 -0.34117082 ... -0.34117082 -0.34117082\n",
      " -0.34117082]' has dtype incompatible with int64, please explicitly cast to a compatible dtype first.\n",
      "  fold3_train.loc[:, col] = ((fold3_train[col].astype(float) - mean) / std)\n",
      "C:\\Users\\giova\\AppData\\Local\\Temp\\ipykernel_19836\\752452514.py:26: FutureWarning: Setting an item of incompatible dtype is deprecated and will raise in a future error of pandas. Value '[ 1.28285399  1.28285399  1.28285399 ... -0.88175109 -0.88175109\n",
      " -0.88175109]' has dtype incompatible with int64, please explicitly cast to a compatible dtype first.\n",
      "  fold3_train.loc[:, col] = ((fold3_train[col].astype(float) - mean) / std)\n",
      "C:\\Users\\giova\\AppData\\Local\\Temp\\ipykernel_19836\\752452514.py:26: FutureWarning: Setting an item of incompatible dtype is deprecated and will raise in a future error of pandas. Value '[-0.00801974 -0.00801974 -0.00801974 ... -0.16886939 -0.16886939\n",
      " -0.16886939]' has dtype incompatible with int64, please explicitly cast to a compatible dtype first.\n",
      "  fold3_train.loc[:, col] = ((fold3_train[col].astype(float) - mean) / std)\n",
      "C:\\Users\\giova\\AppData\\Local\\Temp\\ipykernel_19836\\752452514.py:26: FutureWarning: Setting an item of incompatible dtype is deprecated and will raise in a future error of pandas. Value '[-0.16180249 -0.16180249 -0.16180249 ...  0.48553539  0.48553539\n",
      "  0.48553539]' has dtype incompatible with int64, please explicitly cast to a compatible dtype first.\n",
      "  fold3_train.loc[:, col] = ((fold3_train[col].astype(float) - mean) / std)\n",
      "C:\\Users\\giova\\AppData\\Local\\Temp\\ipykernel_19836\\752452514.py:26: FutureWarning: Setting an item of incompatible dtype is deprecated and will raise in a future error of pandas. Value '[ 1.01216192  1.01216192  1.01216192 ... -0.47356545 -0.47356545\n",
      " -0.47356545]' has dtype incompatible with int64, please explicitly cast to a compatible dtype first.\n",
      "  fold3_train.loc[:, col] = ((fold3_train[col].astype(float) - mean) / std)\n"
     ]
    }
   ],
   "source": [
    "# Updated normalization info with new means and standard deviations\n",
    "normalize_info = {\n",
    "    'REVENUETOTAL': (52.21681, 27.68532),\n",
    "    'RESOLDTOTALAMOUNT': (7.774847, 37.26325),\n",
    "    'TICKETING_STM_TENURE': (6.629178, 6.707811),\n",
    "    'TICKETING_GAMES_SCANNED': (73.04924, 261.2808),\n",
    "    'TICKETING_TICKETS_SCANNED': (745.2811, 3305.272),\n",
    "    'TICKETING_GAMES_SOLD_SECONDARY': (3.837306, 18.37318),\n",
    "    'TICKETING_GAMES_PURCHASED_SECONDARY': (0.5269977, 1.544674),\n",
    "    'TICKETING_TICKET_TOTAL_SPEND': (301247.2, 705777),\n",
    "    'DONATION_MAX_DONATION_AMOUNT': (4337.057, 36719.69),\n",
    "    'DONATION_TOTAL_DONATION_AMOUNT': (69878.01, 346183.8),\n",
    "    'DONATION_CURRENT_DONATION_AMOUNT': (64976.25, 238955.5),\n",
    "    'EMAIL_EMAIL_OPEN_COUNT': (361.6561, 380.6699),\n",
    "    'MERCH_TOTALSPENT_30DAYS': (0.3208162, 6.649214),\n",
    "    'MERCH_TOTALSPENT_90DAYS': (11.14057, 52.73969),\n",
    "    'MERCH_TOTALSPENT_365DAYS': (28.95103, 101.9694),\n",
    "    'MERCH_TOTALSPENT_LIFETIME': (119.5927, 326.8956),\n",
    "    'EMAIL_OPEN_TIME_DIFF': (0.04985863, 6.216986),\n",
    "    'DAYS_SINCE_LAST_DONATION': (171.4835, 515.9593),\n",
    "    'DAYS_SINCE_LAST_PURCHASE': (188.0147, 399.1311)\n",
    "}\n",
    "\n",
    "# Normalize each column\n",
    "for col, (mean, std) in normalize_info.items():\n",
    "    fold3_train.loc[:, col] = ((fold3_train[col].astype(float) - mean) / std)"
   ]
  },
  {
   "cell_type": "code",
   "execution_count": 14,
   "id": "aadec1cb-78b8-4831-87d5-a120cc5bb20f",
   "metadata": {},
   "outputs": [
    {
     "name": "stderr",
     "output_type": "stream",
     "text": [
      "C:\\Users\\giova\\AppData\\Local\\Temp\\ipykernel_19836\\21486251.py:1: SettingWithCopyWarning: \n",
      "A value is trying to be set on a copy of a slice from a DataFrame.\n",
      "Try using .loc[row_indexer,col_indexer] = value instead\n",
      "\n",
      "See the caveats in the documentation: https://pandas.pydata.org/pandas-docs/stable/user_guide/indexing.html#returning-a-view-versus-a-copy\n",
      "  fold3_train.loc[:, 'predicted_prob'] = fold3_train.apply(predict_probability3, axis=1)\n"
     ]
    }
   ],
   "source": [
    "fold3_train.loc[:, 'predicted_prob'] = fold3_train.apply(predict_probability3, axis=1)"
   ]
  },
  {
   "cell_type": "code",
   "execution_count": 15,
   "id": "973b8580-8b74-4cc8-8f45-5c0401c14105",
   "metadata": {},
   "outputs": [
    {
     "data": {
      "image/png": "[encoded data removed]",
      "text/plain": [
       "<Figure size 800x500 with 1 Axes>"
      ]
     },
     "metadata": {},
     "output_type": "display_data"
    }
   ],
   "source": [
    "import matplotlib.pyplot as plt\n",
    "\n",
    "plt.figure(figsize=(8, 5))\n",
    "plt.hist(fold3_train['predicted_prob'], bins=30, color='skyblue', edgecolor='black')\n",
    "plt.title('Distribution of Predicted Probabilities')\n",
    "plt.xlabel('Predicted Probability')\n",
    "plt.ylabel('Count')\n",
    "plt.grid(True)\n",
    "plt.show()"
   ]
  },
  {
   "cell_type": "code",
   "execution_count": 16,
   "id": "c0c360a6-cfc3-45be-a574-7cee26bc5f51",
   "metadata": {},
   "outputs": [
    {
     "data": {
      "image/png": "[encoded data removed]",
      "text/plain": [
       "<Figure size 800x500 with 1 Axes>"
      ]
     },
     "metadata": {},
     "output_type": "display_data"
    }
   ],
   "source": [
    "from sklearn.metrics import roc_curve, roc_auc_score\n",
    "\n",
    "# True labels and predicted probabilities\n",
    "y_true = fold3_train['ISATTENDED']\n",
    "y_scores = fold3_train['predicted_prob']\n",
    "\n",
    "# Get false positive rate, true positive rate, and thresholds\n",
    "fpr, tpr, thresholds = roc_curve(y_true, y_scores)\n",
    "\n",
    "# Compute AUC\n",
    "auc = roc_auc_score(y_true, y_scores)\n",
    "\n",
    "# Plot ROC Curve\n",
    "plt.figure(figsize=(8, 5))\n",
    "plt.plot(fpr, tpr, label=f'ROC Curve (AUC = {auc:.2f})', color='darkorange')\n",
    "plt.plot([0, 1], [0, 1], linestyle='--', color='gray')  # Diagonal line\n",
    "plt.xlabel('False Positive Rate')\n",
    "plt.ylabel('True Positive Rate')\n",
    "plt.title('Receiver Operating Characteristic (ROC) Curve')\n",
    "plt.legend(loc='lower right')\n",
    "plt.grid(True)\n",
    "plt.show()"
   ]
  },
  {
   "cell_type": "code",
   "execution_count": 17,
   "id": "a181085b-4f89-4ff3-a1fc-ef5c9439c0f8",
   "metadata": {},
   "outputs": [
    {
     "name": "stdout",
     "output_type": "stream",
     "text": [
      "Best threshold based on Youden's J: 0.9320\n"
     ]
    }
   ],
   "source": [
    "# Youden's J statistic\n",
    "j_scores = tpr - fpr\n",
    "best_index = j_scores.argmax()\n",
    "best_threshold = thresholds[best_index]\n",
    "\n",
    "print(f\"Best threshold based on Youden's J: {best_threshold:.4f}\")"
   ]
  },
  {
   "cell_type": "code",
   "execution_count": 18,
   "id": "49aee9fe-213c-47f7-9010-663e1612f9cb",
   "metadata": {},
   "outputs": [
    {
     "name": "stderr",
     "output_type": "stream",
     "text": [
      "C:\\Users\\giova\\AppData\\Local\\Temp\\ipykernel_19836\\3524784616.py:5: SettingWithCopyWarning: \n",
      "A value is trying to be set on a copy of a slice from a DataFrame.\n",
      "Try using .loc[row_indexer,col_indexer] = value instead\n",
      "\n",
      "See the caveats in the documentation: https://pandas.pydata.org/pandas-docs/stable/user_guide/indexing.html#returning-a-view-versus-a-copy\n",
      "  fold3_train['predicted_label'] = (fold3_train['predicted_prob'] >= threshold).astype(int)\n"
     ]
    },
    {
     "data": {
      "text/plain": [
       "array([[  4830,  38338],\n",
       "       [  4216, 293219]], dtype=int64)"
      ]
     },
     "execution_count": 18,
     "metadata": {},
     "output_type": "execute_result"
    }
   ],
   "source": [
    "from sklearn.metrics import confusion_matrix, accuracy_score\n",
    "\n",
    "# Step 1: Create binary predictions\n",
    "threshold = 0.8\n",
    "fold3_train['predicted_label'] = (fold3_train['predicted_prob'] >= threshold).astype(int)\n",
    "\n",
    "# Step 2: Get confusion matrix\n",
    "cm = confusion_matrix(fold3_train['ISATTENDED'], fold3_train['predicted_label'])\n",
    "cm"
   ]
  },
  {
   "cell_type": "code",
   "execution_count": 19,
   "id": "cd373035-ff3a-468a-bbf5-ef7dad676ba2",
   "metadata": {},
   "outputs": [
    {
     "data": {
      "text/plain": [
       "0.875062756346832"
      ]
     },
     "execution_count": 19,
     "metadata": {},
     "output_type": "execute_result"
    }
   ],
   "source": [
    "accuracy_score(fold3_train['ISATTENDED'], fold3_train['predicted_label'])"
   ]
  },
  {
   "cell_type": "code",
   "execution_count": 20,
   "id": "45c6cd30-e3a4-4294-8c5b-39a9d974ee8a",
   "metadata": {},
   "outputs": [
    {
     "name": "stderr",
     "output_type": "stream",
     "text": [
      "C:\\Users\\giova\\AppData\\Local\\Temp\\ipykernel_19836\\2215761154.py:92: RuntimeWarning: overflow encountered in exp\n",
      "  prob = 1 / (1 + np.exp(-score))\n",
      "C:\\Users\\giova\\AppData\\Local\\Temp\\ipykernel_19836\\4271686238.py:1: SettingWithCopyWarning: \n",
      "A value is trying to be set on a copy of a slice from a DataFrame.\n",
      "Try using .loc[row_indexer,col_indexer] = value instead\n",
      "\n",
      "See the caveats in the documentation: https://pandas.pydata.org/pandas-docs/stable/user_guide/indexing.html#returning-a-view-versus-a-copy\n",
      "  fold3_test.loc[:, 'predicted_prob'] = fold3_test.apply(predict_probability3, axis=1)\n"
     ]
    }
   ],
   "source": [
    "fold3_test.loc[:, 'predicted_prob'] = fold3_test.apply(predict_probability3, axis=1)"
   ]
  },
  {
   "cell_type": "code",
   "execution_count": 21,
   "id": "2ce15afd-a557-4431-a297-d3e4716b18f9",
   "metadata": {},
   "outputs": [
    {
     "data": {
      "image/png": "[encoded data removed]",
      "text/plain": [
       "<Figure size 800x500 with 1 Axes>"
      ]
     },
     "metadata": {},
     "output_type": "display_data"
    }
   ],
   "source": [
    "import matplotlib.pyplot as plt\n",
    "\n",
    "plt.figure(figsize=(8, 5))\n",
    "plt.hist(fold3_test['predicted_prob'], bins=30, color='skyblue', edgecolor='black')\n",
    "plt.title('Distribution of Predicted Probabilities')\n",
    "plt.xlabel('Predicted Probability')\n",
    "plt.ylabel('Count')\n",
    "plt.grid(True)\n",
    "plt.show()"
   ]
  },
  {
   "cell_type": "code",
   "execution_count": 22,
   "id": "30d341b1-cfcf-433b-a16f-03d56daae6f5",
   "metadata": {},
   "outputs": [
    {
     "name": "stderr",
     "output_type": "stream",
     "text": [
      "C:\\Users\\giova\\AppData\\Local\\Temp\\ipykernel_19836\\509598917.py:1: SettingWithCopyWarning: \n",
      "A value is trying to be set on a copy of a slice from a DataFrame.\n",
      "Try using .loc[row_indexer,col_indexer] = value instead\n",
      "\n",
      "See the caveats in the documentation: https://pandas.pydata.org/pandas-docs/stable/user_guide/indexing.html#returning-a-view-versus-a-copy\n",
      "  fold3_test['predicted_label'] = (fold3_test['predicted_prob'] >= threshold).astype(int)\n"
     ]
    },
    {
     "data": {
      "text/plain": [
       "array([[ 2578,  6211],\n",
       "       [13214, 45729]], dtype=int64)"
      ]
     },
     "execution_count": 22,
     "metadata": {},
     "output_type": "execute_result"
    }
   ],
   "source": [
    "fold3_test['predicted_label'] = (fold3_test['predicted_prob'] >= threshold).astype(int)\n",
    "\n",
    "# Step 2: Get confusion matrix\n",
    "cm = confusion_matrix(fold3_test['ISATTENDED'], fold3_test['predicted_label'])\n",
    "cm"
   ]
  },
  {
   "cell_type": "code",
   "execution_count": 23,
   "id": "1d649032-9f51-45ee-8491-0a68f1ad3442",
   "metadata": {},
   "outputs": [
    {
     "data": {
      "text/plain": [
       "0.7132079371641175"
      ]
     },
     "execution_count": 23,
     "metadata": {},
     "output_type": "execute_result"
    }
   ],
   "source": [
    "accuracy_score(fold3_test['ISATTENDED'], fold3_test['predicted_label'])"
   ]
  }
 ],
 "metadata": {
  "kernelspec": {
   "display_name": "Python 3 (ipykernel)",
   "language": "python",
   "name": "python3"
  },
  "language_info": {
   "codemirror_mode": {
    "name": "ipython",
    "version": 3
   },
   "file_extension": ".py",
   "mimetype": "text/x-python",
   "name": "python",
   "nbconvert_exporter": "python",
   "pygments_lexer": "ipython3",
   "version": "3.12.3"
  }
 },
 "nbformat": 4,
 "nbformat_minor": 5
}

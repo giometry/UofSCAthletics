{
 "cells": [
  {
   "cell_type": "code",
   "execution_count": 1,
   "id": "a3574de6-0e73-436c-99dc-4b290fcea063",
   "metadata": {},
   "outputs": [],
   "source": [
    "# Import package for data manipulation\n",
    "import pandas as pd\n",
    "import numpy as np"
   ]
  },
  {
   "cell_type": "code",
   "execution_count": 2,
   "id": "67e687bd-3f8c-42e6-a881-c53da851fe37",
   "metadata": {},
   "outputs": [],
   "source": [
    "# File location for data\n",
    "project_folder = r'C:\\Users\\giova\\Documents\\School\\Classes\\Spring 2025\\Capstone Project\\Baseball2024'\n",
    "data_folder_loc = r'C:\\Users\\giova\\Documents\\School\\Classes\\Spring 2025\\Capstone Project\\Data'\n",
    "\n",
    "baseball_file = r'\\baseball_2024.csv'"
   ]
  },
  {
   "cell_type": "code",
   "execution_count": 3,
   "id": "b42710be-4c87-4018-bffa-66780b01ec9f",
   "metadata": {},
   "outputs": [],
   "source": [
    "# Read data\n",
    "baseball_df = pd.read_csv(data_folder_loc + baseball_file)"
   ]
  },
  {
   "cell_type": "code",
   "execution_count": 4,
   "id": "0b724be8-fa5d-4efe-80c8-59477d3e18f7",
   "metadata": {},
   "outputs": [],
   "source": [
    "# Different type of columns to drop\n",
    "\n",
    "# Id columns\n",
    "# Keep GRMCONTACTID for mixed effects logistic regression\n",
    "id_columns = ['Unnamed: 0', 'GRMCONTACTID_FANCOPY', 'EVENTCODE', 'DIMCUSTOMERID', 'ETL_ROW_HASH', 'ETL_UPDATED_DATE', 'TENANTID', 'CRM_PRIMARY_CRM_ID', 'ETL_SYNC_DELTAHASHKEY', 'Fan Status']\n",
    "\n",
    "# Columns with uniform data\n",
    "uniform_columns = ['SEASONNAME', 'SEASONHEADERNAME', 'SEASONYEAR', 'ARENANAME', 'ISSALEABLE', 'ISSOLD', 'TENANT', 'TICKETING_RESOLD_SEASON_VALUE', 'TICKETING_RESOLD_NET_GAIN', 'TICKETING_RESOLD_LIFETIME_VALUE', 'EMAIL_VALID_EMAILADDRESS']\n",
    "\n",
    "# Columns with all nulls\n",
    "null_columns = ['TICKETING_GAMES_FORWARDED', 'TICKETING_MOBILE_SCANNED_GAMES', 'TICKETING_INFERRED_BROKER_STATUS', 'EMAIL_SUBSCRIPTIONS', 'EMAIL_IS_OPTED_IN', 'CRM_ACCOUNT_OWNER', 'CRM_LAST_ACTIVITY_DATE', 'CRM_HAS_OPEN_OPPORTUNITY', 'CRM_OPPORTUNITY_LAST_MODIFIED']\n",
    "\n",
    "# Special columns\n",
    "# RECENCY_SCORE, FREQUENCY_SCORE are almost all uniform (2-3 rows not the same)\n",
    "# RFM_SCORE, PREV_RFM_SCORE are a conglomeration of recency, monetary, and frequency scores. Do not need\n",
    "additional_drop_columns = ['RECENCY_SCORE', 'FREQUENCY_SCORE', 'RFM_SCORE', 'PREV_RFM_SCORE', 'FAN_CREATEDATE', 'FAN_UPDATEDDATE']\n",
    "\n",
    "# Dates do not have any individual meetings\n",
    "no_individual_meaning = ['TICKETING_LAST_EVENT_ATTENDED', 'TICKETING_NEXT_EVENT_PURCHASED']\n",
    "\n",
    "# Combine all types of columns to drop to a single list\n",
    "drop_columns = id_columns + uniform_columns + null_columns + additional_drop_columns + no_individual_meaning\n",
    "\n",
    "# Drop columns\n",
    "baseball_df = baseball_df.drop(columns=drop_columns)"
   ]
  },
  {
   "cell_type": "code",
   "execution_count": 5,
   "id": "7215e32c-60db-4299-8941-0f5077e7568a",
   "metadata": {},
   "outputs": [],
   "source": [
    "# Impute NA values\n",
    "\n",
    "# 1. Fill in NAs in ISMOBILE with 0, caused by not opening mobile\n",
    "baseball_df['ISMOBILE'] = baseball_df['ISMOBILE'].fillna(0)\n",
    "\n",
    "# 2. Fill in NAs in RESOLDTOTALAMOUNT with 0, caused by tickets not being resold\n",
    "baseball_df['RESOLDTOTALAMOUNT'] = baseball_df['RESOLDTOTALAMOUNT'].fillna(0)\n",
    "\n",
    "# 3. Fill in NAs in DONATION_CURRENT_DONOR WITH 0. USER NOT A CURRENT DONOR\n",
    "baseball_df['DONATION_CURRENT_DONOR'] = baseball_df['DONATION_CURRENT_DONOR'].fillna(0)\n",
    "\n",
    "# 4. Fill in NAs in merchandise columns with 0. Did not buy merchandise.\n",
    "columns_to_fill = [\n",
    "    'MERCH_QUANTITY_30DAYS', 'MERCH_TOTALSPENT_30DAYS',\n",
    "    'MERCH_QUANTITY_90DAYS', 'MERCH_TOTALSPENT_90DAYS',\n",
    "    'MERCH_QUANTITY_365DAYS', 'MERCH_TOTALSPENT_365DAYS',\n",
    "    'MERCH_QUANTITY_LIFETIME', 'MERCH_TOTALSPENT_LIFETIME'\n",
    "]\n",
    "baseball_df[columns_to_fill] = baseball_df[columns_to_fill].fillna(0)\n",
    "\n",
    "# 5. Fill in NAs in prev fan stage columns with 'None'\n",
    "# Fill null values with 'None' for specified columns\n",
    "baseball_df['PREV_FAN_JOURNEY_STAGE'] = baseball_df['PREV_FAN_JOURNEY_STAGE'].fillna('None')\n",
    "baseball_df['PREV_FAN_PARENT_GROUP'] = baseball_df['PREV_FAN_PARENT_GROUP'].fillna('None')"
   ]
  },
  {
   "cell_type": "code",
   "execution_count": 6,
   "id": "2d7a2e9c-63ed-4742-a245-3bf38322add0",
   "metadata": {},
   "outputs": [
    {
     "name": "stderr",
     "output_type": "stream",
     "text": [
      "C:\\Users\\giova\\AppData\\Local\\Temp\\ipykernel_18768\\3001546556.py:8: UserWarning: Could not infer format, so each element will be parsed individually, falling back to `dateutil`. To ensure parsing is consistent and as-expected, please specify a format.\n",
      "  (pd.to_datetime('today') - pd.to_datetime(baseball_df['DONATION_FIRST_DONATION'])).dt.days\n",
      "C:\\Users\\giova\\AppData\\Local\\Temp\\ipykernel_18768\\3001546556.py:15: UserWarning: Could not infer format, so each element will be parsed individually, falling back to `dateutil`. To ensure parsing is consistent and as-expected, please specify a format.\n",
      "  (pd.to_datetime('today') - pd.to_datetime(baseball_df['DONATION_LAST_DONATION'])).dt.days\n"
     ]
    }
   ],
   "source": [
    "# Feature Engineering\n",
    "\n",
    "# 1a. Create new column of people who have not donated\n",
    "baseball_df['HAS_DONATED'] = baseball_df['DONATION_FIRST_DONATION'].notnull().astype(int)\n",
    "\n",
    "# 1b. Create new column based on recency of first donation\n",
    "baseball_df['DAYS_SINCE_FIRST_DONATION'] = (\n",
    "    (pd.to_datetime('today') - pd.to_datetime(baseball_df['DONATION_FIRST_DONATION'])).dt.days\n",
    ").astype('Int64')\n",
    "baseball_df['DAYS_SINCE_FIRST_DONATION'] = baseball_df['DAYS_SINCE_FIRST_DONATION'].fillna(-1)\n",
    "\n",
    "# Removed 1C because it is high correlation with 1B\n",
    "# 1c. Create new column based on recency of last donation\n",
    "baseball_df['DAYS_SINCE_LAST_DONATION'] = (\n",
    "    (pd.to_datetime('today') - pd.to_datetime(baseball_df['DONATION_LAST_DONATION'])).dt.days\n",
    ").astype('Int64')\n",
    "baseball_df['DAYS_SINCE_LAST_DONATION'] = baseball_df['DAYS_SINCE_LAST_DONATION'].fillna(-1)\n",
    "\n",
    "# Drop donation date columns (date is not used in column)\n",
    "baseball_df = baseball_df.drop(columns=['DONATION_LAST_DONATION', 'DONATION_FIRST_DONATION'])"
   ]
  },
  {
   "cell_type": "code",
   "execution_count": 7,
   "id": "32b4c5a8-47d6-4ad0-bc32-e007b0aa729e",
   "metadata": {},
   "outputs": [
    {
     "name": "stderr",
     "output_type": "stream",
     "text": [
      "C:\\Users\\giova\\AppData\\Local\\Temp\\ipykernel_18768\\3637450663.py:3: UserWarning: Could not infer format, so each element will be parsed individually, falling back to `dateutil`. To ensure parsing is consistent and as-expected, please specify a format.\n",
      "  pd.to_datetime(baseball_df['EMAIL_LAST_EMAIL_OPEN']) -\n",
      "C:\\Users\\giova\\AppData\\Local\\Temp\\ipykernel_18768\\3637450663.py:4: UserWarning: Could not infer format, so each element will be parsed individually, falling back to `dateutil`. To ensure parsing is consistent and as-expected, please specify a format.\n",
      "  pd.to_datetime(baseball_df['EMAIL_LAST_EMAIL_SENT'])\n",
      "C:\\Users\\giova\\AppData\\Local\\Temp\\ipykernel_18768\\3637450663.py:15: UserWarning: Could not infer format, so each element will be parsed individually, falling back to `dateutil`. To ensure parsing is consistent and as-expected, please specify a format.\n",
      "  baseball_df['EMAIL_SENT_MONTH'] = pd.to_datetime(baseball_df['EMAIL_LAST_EMAIL_SENT']).dt.month\n",
      "C:\\Users\\giova\\AppData\\Local\\Temp\\ipykernel_18768\\3637450663.py:16: UserWarning: Could not infer format, so each element will be parsed individually, falling back to `dateutil`. To ensure parsing is consistent and as-expected, please specify a format.\n",
      "  baseball_df['EMAIL_SENT_QUARTER'] = pd.to_datetime(baseball_df['EMAIL_LAST_EMAIL_SENT']).dt.quarter\n"
     ]
    }
   ],
   "source": [
    "# 2a. Create new column based on the response time of last email sent \n",
    "baseball_df['EMAIL_OPEN_TIME_DIFF'] = (\n",
    "    pd.to_datetime(baseball_df['EMAIL_LAST_EMAIL_OPEN']) - \n",
    "    pd.to_datetime(baseball_df['EMAIL_LAST_EMAIL_SENT'])\n",
    ")\n",
    "# Replace nulls (NAs) with -1 days\n",
    "baseball_df['EMAIL_OPEN_TIME_DIFF'] = baseball_df['EMAIL_OPEN_TIME_DIFF'].dt.days.fillna(-1).astype(int)\n",
    "# Replace dates where sent is less than open by date. Where user opened a non-recent email\n",
    "baseball_df.loc[baseball_df['EMAIL_OPEN_TIME_DIFF'] < 0, 'EMAIL_OPEN_TIME_DIFF'] = -1\n",
    "\n",
    "# 2b. Create new column based on response of last email sent\n",
    "baseball_df['HAS_OPENED_EMAIL'] = baseball_df['EMAIL_OPEN_TIME_DIFF'].apply(lambda x: 0 if x == -1 else 1)\n",
    "\n",
    "# 2c. Create new column based on the seasonality of when email was sent \n",
    "baseball_df['EMAIL_SENT_MONTH'] = pd.to_datetime(baseball_df['EMAIL_LAST_EMAIL_SENT']).dt.month\n",
    "baseball_df['EMAIL_SENT_QUARTER'] = pd.to_datetime(baseball_df['EMAIL_LAST_EMAIL_SENT']).dt.quarter\n",
    "baseball_df['EMAIL_SENT_MONTH'] = baseball_df['EMAIL_SENT_MONTH'].fillna(0)\n",
    "baseball_df['EMAIL_SENT_QUARTER'] = baseball_df['EMAIL_SENT_QUARTER'].fillna(0)\n",
    "\n",
    "# Drop email date columns\n",
    "baseball_df = baseball_df.drop(columns=['EMAIL_LAST_EMAIL_SENT', 'EMAIL_LAST_EMAIL_OPEN'])"
   ]
  },
  {
   "cell_type": "code",
   "execution_count": 8,
   "id": "ee149bbc-8abf-45c5-a11c-8e4704094d3c",
   "metadata": {},
   "outputs": [
    {
     "name": "stderr",
     "output_type": "stream",
     "text": [
      "C:\\Users\\giova\\AppData\\Local\\Temp\\ipykernel_18768\\864006738.py:2: UserWarning: Could not infer format, so each element will be parsed individually, falling back to `dateutil`. To ensure parsing is consistent and as-expected, please specify a format.\n",
      "  baseball_df['TICKETING_FIRST_KNOWN_TICKET_PURCHASE'] = pd.to_datetime(baseball_df['TICKETING_FIRST_KNOWN_TICKET_PURCHASE'], errors='coerce')\n",
      "C:\\Users\\giova\\AppData\\Local\\Temp\\ipykernel_18768\\864006738.py:3: UserWarning: Could not infer format, so each element will be parsed individually, falling back to `dateutil`. To ensure parsing is consistent and as-expected, please specify a format.\n",
      "  baseball_df['TICKETING_LAST_TICKET_PURCHASE'] = pd.to_datetime(baseball_df['TICKETING_LAST_TICKET_PURCHASE'], errors='coerce')\n"
     ]
    }
   ],
   "source": [
    "# Convert to datetime\n",
    "baseball_df['TICKETING_FIRST_KNOWN_TICKET_PURCHASE'] = pd.to_datetime(baseball_df['TICKETING_FIRST_KNOWN_TICKET_PURCHASE'], errors='coerce')\n",
    "baseball_df['TICKETING_LAST_TICKET_PURCHASE'] = pd.to_datetime(baseball_df['TICKETING_LAST_TICKET_PURCHASE'], errors='coerce')\n",
    "\n",
    "# 3b. Create new column based on recency of first purchase\n",
    "baseball_df['DAYS_SINCE_FIRST_PURCHASE'] = (pd.to_datetime('today') - baseball_df['TICKETING_FIRST_KNOWN_TICKET_PURCHASE']).dt.days.fillna(-1).astype(int)\n",
    "\n",
    "# 3c. Create new column based on recency of last purchase\n",
    "baseball_df['DAYS_SINCE_LAST_PURCHASE'] = (pd.to_datetime('today') - baseball_df['TICKETING_LAST_TICKET_PURCHASE']).dt.days.fillna(-1).astype(int)\n",
    "\n",
    "# 3d. Create new column based on time span between first and last purchase\n",
    "baseball_df['DAYS_BETWEEN_FIRSTLAST_PURCHASE'] = (baseball_df['TICKETING_LAST_TICKET_PURCHASE'] - baseball_df['TICKETING_FIRST_KNOWN_TICKET_PURCHASE']).dt.days.fillna(-1).astype(int)\n",
    "\n",
    "# Drop ticket date columns\n",
    "baseball_df = baseball_df.drop(columns=['TICKETING_FIRST_KNOWN_TICKET_PURCHASE', 'TICKETING_LAST_TICKET_PURCHASE'])"
   ]
  },
  {
   "cell_type": "code",
   "execution_count": 9,
   "id": "26d0213d-ed3a-4e3f-8895-fe0e1b43ea94",
   "metadata": {},
   "outputs": [
    {
     "name": "stderr",
     "output_type": "stream",
     "text": [
      "C:\\Users\\giova\\AppData\\Local\\Temp\\ipykernel_18768\\2600495352.py:3: UserWarning: Could not infer format, so each element will be parsed individually, falling back to `dateutil`. To ensure parsing is consistent and as-expected, please specify a format.\n",
      "  pd.to_datetime('today') - pd.to_datetime(baseball_df['MERCH_DATE_OF_LAST_PURCHASE'])\n"
     ]
    }
   ],
   "source": [
    "# 4a. Create new column based on recency of last purchase\n",
    "baseball_df['DAYS_SINCE_LAST_PURCHASE'] = (\n",
    "    pd.to_datetime('today') - pd.to_datetime(baseball_df['MERCH_DATE_OF_LAST_PURCHASE'])\n",
    ").dt.days\n",
    "\n",
    "# Handle null values by filling with -1 (or another placeholder)\n",
    "baseball_df['DAYS_SINCE_LAST_PURCHASE'] = baseball_df['DAYS_SINCE_LAST_PURCHASE'].fillna(-1).astype(int)\n",
    "\n",
    "# 4b. Create new column based on if user has made a purchase\n",
    "baseball_df['HAS_MADE_PURCHASE'] = baseball_df['DAYS_SINCE_LAST_PURCHASE'].apply(lambda x: 0 if x == -1 else 1).astype(int)\n",
    "\n",
    "# Drop merch date column\n",
    "baseball_df = baseball_df.drop(columns=['MERCH_DATE_OF_LAST_PURCHASE'])"
   ]
  },
  {
   "cell_type": "code",
   "execution_count": 10,
   "id": "d099f6d1-ccd1-41fb-a2c3-1131b9f7b9cc",
   "metadata": {},
   "outputs": [],
   "source": [
    "# 5. CREATED NEW COLUMN BASED ON SEATING\n",
    "# Define seating categories based on section and row\n",
    "# Define seating categories based on section\n",
    "def assign_seating_category(row):\n",
    "    section = str(row['SECTIONNAME']).strip()\n",
    "\n",
    "    # Black Seats\n",
    "    if section in ['1']:\n",
    "        return 'Cyan'\n",
    "\n",
    "    elif section in ['2', '3', '21', '22', '23', '24', '25', '26', '27', '28']:\n",
    "        return 'Black'\n",
    "    \n",
    "    # Garnet Seats\n",
    "    elif section in ['4', '5', '6', '7', '17', '18', '19', '20']:\n",
    "        return 'Garnet'\n",
    "\n",
    "    # Gold Seats\n",
    "    elif section in ['8', '9', '10', '11', '12', '13', '14', '15', '16']:\n",
    "        return 'Gold'\n",
    "\n",
    "    elif section.startswith('GA'):\n",
    "        return 'Not Premium'\n",
    "\n",
    "    elif section.startswith('OF'):\n",
    "        return 'Not Premium'\n",
    "\n",
    "    elif section.startswith('BOX'):\n",
    "        return 'Not Premium'\n",
    "\n",
    "    elif section.startswith('UP'):\n",
    "        return 'Premium'\n",
    "\n",
    "    elif section.startswith('SUITE'):\n",
    "        return 'Premium'\n",
    "\n",
    "    elif section.startswith('PTAB'):\n",
    "        return 'Premium'\n",
    "\n",
    "    elif section.startswith('PPD'):\n",
    "        return 'Premium'\n",
    "\n",
    "    elif section.startswith('CLUB'):\n",
    "        return 'Premium'\n",
    "\n",
    "    elif section.startswith('CLB'):\n",
    "        return 'Premium'\n",
    "        \n",
    "    elif section.startswith('CK'):\n",
    "        return 'Premium'\n",
    "\n",
    "    elif section.startswith('CYNPOR'):\n",
    "        return 'Premium'\n",
    "    \n",
    "    return 'Other'\n",
    "\n",
    "# Apply the function to create the new column\n",
    "baseball_df['SEATING'] = baseball_df.apply(assign_seating_category, axis=1)"
   ]
  },
  {
   "cell_type": "code",
   "execution_count": 11,
   "id": "9cc62227-3d26-480c-a1da-6310ed5c4b06",
   "metadata": {},
   "outputs": [],
   "source": [
    "# 7. Created new engagement column\n",
    "# Mapping dictionary\n",
    "engagement_mapping = {\n",
    "    'Devoted': 5,\n",
    "    'Committed': 4,\n",
    "    'Affiliated': 3,\n",
    "    'Invested': 2,\n",
    "    'Observer': 1\n",
    "}\n",
    "\n",
    "# Map the engagement_Level column to numerical values\n",
    "baseball_df['ENGAGEMENT'] = baseball_df['FAN_JOURNEY_STAGE'].map(engagement_mapping)"
   ]
  },
  {
   "cell_type": "code",
   "execution_count": 12,
   "id": "61346f1f-be2c-4478-a4c6-89e1716bc533",
   "metadata": {},
   "outputs": [
    {
     "data": {
      "text/plain": [
       "GRMCONTACTID                           0\n",
       "EVENTNAME                              0\n",
       "SECTIONNAME                            0\n",
       "ROWNAME                                0\n",
       "SEAT                                   0\n",
       "REVENUETOTAL                           0\n",
       "PLANCODE                               0\n",
       "ISMOBILE                               0\n",
       "RESOLDTOTALAMOUNT                      0\n",
       "ISATTENDED                             0\n",
       "ISRESOLD                               0\n",
       "FAN_EMAIL_MARKETABLE                   0\n",
       "FAN_PHONE_MARKETABLE                   0\n",
       "FAN_POSTAL_MARKETABLE                  0\n",
       "FAN_UNIQUE_SOURCESYSTEM_COUNT          0\n",
       "FAN_INITIAL_LEAD_SOURCE                0\n",
       "FAN_LAST_LEAD_SOURCE                   0\n",
       "TICKETING_CURRENTYEARSTM               0\n",
       "TICKETING_PREVSEASONSTM                0\n",
       "TICKETING_STM_TENURE                   0\n",
       "TICKETING_GAMES_SCANNED                0\n",
       "TICKETING_TICKETS_SCANNED              0\n",
       "TICKETING_GAMES_SOLD_SECONDARY         0\n",
       "TICKETING_GAMES_PURCHASED_SECONDARY    0\n",
       "TICKETING_ATTENDANCE_SEASON_PCT        0\n",
       "TICKETING_ATTENDANCE_LIFETIME_PCT      0\n",
       "TICKETING_TICKET_TOTAL_SPEND           0\n",
       "DONATION_MAX_DONATION_AMOUNT           0\n",
       "DONATION_TOTAL_DONATION_AMOUNT         0\n",
       "DONATION_CURRENT_DONOR                 0\n",
       "DONATION_CURRENT_DONATION_AMOUNT       0\n",
       "EMAIL_EMAIL_OPEN_COUNT                 0\n",
       "EMAIL_EMAIL_OPEN_PCT                   0\n",
       "EMAIL_EMAIL_CLICK_PCT                  0\n",
       "MERCH_QUANTITY_30DAYS                  0\n",
       "MERCH_TOTALSPENT_30DAYS                0\n",
       "MERCH_QUANTITY_90DAYS                  0\n",
       "MERCH_TOTALSPENT_90DAYS                0\n",
       "MERCH_QUANTITY_365DAYS                 0\n",
       "MERCH_TOTALSPENT_365DAYS               0\n",
       "MERCH_QUANTITY_LIFETIME                0\n",
       "MERCH_TOTALSPENT_LIFETIME              0\n",
       "TOTAL_LIFETIME_VALUE                   0\n",
       "MONETARY_SCORE                         0\n",
       "FAN_JOURNEY_STAGE                      0\n",
       "PREV_FAN_JOURNEY_STAGE                 0\n",
       "FAN_PARENT_GROUP                       0\n",
       "PREV_FAN_PARENT_GROUP                  0\n",
       "HAS_DONATED                            0\n",
       "DAYS_SINCE_FIRST_DONATION              0\n",
       "DAYS_SINCE_LAST_DONATION               0\n",
       "EMAIL_OPEN_TIME_DIFF                   0\n",
       "HAS_OPENED_EMAIL                       0\n",
       "EMAIL_SENT_MONTH                       0\n",
       "EMAIL_SENT_QUARTER                     0\n",
       "DAYS_SINCE_FIRST_PURCHASE              0\n",
       "DAYS_SINCE_LAST_PURCHASE               0\n",
       "DAYS_BETWEEN_FIRSTLAST_PURCHASE        0\n",
       "HAS_MADE_PURCHASE                      0\n",
       "SEATING                                0\n",
       "ENGAGEMENT                             0\n",
       "dtype: int64"
      ]
     },
     "execution_count": 12,
     "metadata": {},
     "output_type": "execute_result"
    }
   ],
   "source": [
    "# Check what rows are null\n",
    "pd.set_option('display.max_rows', None)\n",
    "baseball_df.isnull().sum()"
   ]
  },
  {
   "cell_type": "code",
   "execution_count": 13,
   "id": "44200d79-547d-46d5-8832-996535aedfb9",
   "metadata": {},
   "outputs": [],
   "source": [
    "# Drop these columns because data is new and have not been calculated\n",
    "baseball_df = baseball_df.dropna()"
   ]
  },
  {
   "cell_type": "code",
   "execution_count": 14,
   "id": "d10409a5-b628-4e72-8af4-cd9fb87b2fe9",
   "metadata": {},
   "outputs": [],
   "source": [
    "# Save data\n",
    "baseball_df.to_csv(project_folder + r'\\cleaned_baseball_2024.csv', index=False)"
   ]
  }
 ],
 "metadata": {
  "kernelspec": {
   "display_name": "Python 3 (ipykernel)",
   "language": "python",
   "name": "python3"
  },
  "language_info": {
   "codemirror_mode": {
    "name": "ipython",
    "version": 3
   },
   "file_extension": ".py",
   "mimetype": "text/x-python",
   "name": "python",
   "nbconvert_exporter": "python",
   "pygments_lexer": "ipython3",
   "version": "3.12.3"
  }
 },
 "nbformat": 4,
 "nbformat_minor": 5
}
